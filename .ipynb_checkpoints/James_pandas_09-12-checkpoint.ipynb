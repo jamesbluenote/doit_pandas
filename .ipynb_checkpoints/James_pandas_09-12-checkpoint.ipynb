{
 "cells": [
  {
   "cell_type": "code",
   "execution_count": 1,
   "id": "38c01519-18e7-4047-a097-4cedcdeaabc5",
   "metadata": {},
   "outputs": [],
   "source": [
    "word = 'grail'\n",
    "sent = 'a scratch'"
   ]
  },
  {
   "cell_type": "code",
   "execution_count": 2,
   "id": "6f0ba16a-62b0-40b8-a21c-ceed8e6d4f9b",
   "metadata": {},
   "outputs": [
    {
     "data": {
      "text/plain": [
       "'g'"
      ]
     },
     "execution_count": 2,
     "metadata": {},
     "output_type": "execute_result"
    }
   ],
   "source": [
    "word[0]"
   ]
  },
  {
   "cell_type": "code",
   "execution_count": 3,
   "id": "6a71ef4b-b0f8-433e-a6ad-47d7299b552d",
   "metadata": {},
   "outputs": [
    {
     "data": {
      "text/plain": [
       "'h'"
      ]
     },
     "execution_count": 3,
     "metadata": {},
     "output_type": "execute_result"
    }
   ],
   "source": [
    "sent[-1]"
   ]
  },
  {
   "cell_type": "code",
   "execution_count": 4,
   "id": "0a9ce923-b1f9-428a-973d-2c2ff79dfb69",
   "metadata": {},
   "outputs": [
    {
     "data": {
      "text/plain": [
       "'gra'"
      ]
     },
     "execution_count": 4,
     "metadata": {},
     "output_type": "execute_result"
    }
   ],
   "source": [
    "word[:3]"
   ]
  },
  {
   "cell_type": "code",
   "execution_count": 7,
   "id": "baa1edfc-eedb-4b64-9831-ba24f01082c0",
   "metadata": {},
   "outputs": [
    {
     "data": {
      "text/plain": [
       "6"
      ]
     },
     "execution_count": 7,
     "metadata": {},
     "output_type": "execute_result"
    }
   ],
   "source": [
    "len('sample')"
   ]
  },
  {
   "cell_type": "code",
   "execution_count": 8,
   "id": "4d45f024-a5a4-48f2-a04a-908174f3019d",
   "metadata": {},
   "outputs": [
    {
     "data": {
      "text/plain": [
       "'Sample'"
      ]
     },
     "execution_count": 8,
     "metadata": {},
     "output_type": "execute_result"
    }
   ],
   "source": [
    "'sample'.capitalize()"
   ]
  },
  {
   "cell_type": "code",
   "execution_count": 9,
   "id": "0c35f09f-e155-44bc-8f6d-f479d222d8d9",
   "metadata": {},
   "outputs": [
    {
     "data": {
      "text/plain": [
       "2"
      ]
     },
     "execution_count": 9,
     "metadata": {},
     "output_type": "execute_result"
    }
   ],
   "source": [
    "'sample_string'.count('s')"
   ]
  },
  {
   "cell_type": "code",
   "execution_count": 10,
   "id": "9454bbaf-fe06-435e-a86b-8327b1d29ee2",
   "metadata": {},
   "outputs": [
    {
     "data": {
      "text/plain": [
       "'Grail'"
      ]
     },
     "execution_count": 10,
     "metadata": {},
     "output_type": "execute_result"
    }
   ],
   "source": [
    "word.capitalize()"
   ]
  },
  {
   "cell_type": "code",
   "execution_count": 13,
   "id": "3d01004b-04d9-49b0-9644-e310920fd924",
   "metadata": {},
   "outputs": [
    {
     "data": {
      "text/plain": [
       "-1"
      ]
     },
     "execution_count": 13,
     "metadata": {},
     "output_type": "execute_result"
    }
   ],
   "source": [
    "word.find('i3')"
   ]
  },
  {
   "cell_type": "code",
   "execution_count": 14,
   "id": "e78ae74e-21cf-404d-8c58-26d6bb3bffa9",
   "metadata": {},
   "outputs": [
    {
     "data": {
      "text/plain": [
       "6"
      ]
     },
     "execution_count": 14,
     "metadata": {},
     "output_type": "execute_result"
    }
   ],
   "source": [
    "\"It's just a flesh wound!\".index('u')"
   ]
  },
  {
   "cell_type": "code",
   "execution_count": 15,
   "id": "c1bbb0a2-b30f-488a-abcf-ec99af7c2bb3",
   "metadata": {},
   "outputs": [
    {
     "data": {
      "text/plain": [
       "6"
      ]
     },
     "execution_count": 15,
     "metadata": {},
     "output_type": "execute_result"
    }
   ],
   "source": [
    "\"It's just a flesh wound!\".find('u')"
   ]
  },
  {
   "cell_type": "code",
   "execution_count": 16,
   "id": "4685dec2-8539-4120-81ad-decb6b08b352",
   "metadata": {},
   "outputs": [],
   "source": [
    "word = 'sampe_test_image'"
   ]
  },
  {
   "cell_type": "code",
   "execution_count": 17,
   "id": "579bdf47-1b1b-4215-a2da-163b03cbef7d",
   "metadata": {},
   "outputs": [
    {
     "data": {
      "text/plain": [
       "['sampe', 'test', 'image']"
      ]
     },
     "execution_count": 17,
     "metadata": {},
     "output_type": "execute_result"
    }
   ],
   "source": [
    "word.split(sep='_')"
   ]
  },
  {
   "cell_type": "code",
   "execution_count": 18,
   "id": "cb7a76f3-ad5f-4f6f-ba81-487f17c13603",
   "metadata": {},
   "outputs": [
    {
     "data": {
      "text/plain": [
       "('sampe', '_', 'test_image')"
      ]
     },
     "execution_count": 18,
     "metadata": {},
     "output_type": "execute_result"
    }
   ],
   "source": [
    "word.partition('_')"
   ]
  },
  {
   "cell_type": "code",
   "execution_count": 22,
   "id": "d513dcc5-a436-44a3-a4eb-254d73630a54",
   "metadata": {},
   "outputs": [
    {
     "data": {
      "text/plain": [
       "'        nice        '"
      ]
     },
     "execution_count": 22,
     "metadata": {},
     "output_type": "execute_result"
    }
   ],
   "source": [
    "'nice'.center(20)"
   ]
  },
  {
   "cell_type": "code",
   "execution_count": 23,
   "id": "588fb276-5d15-4969-9bd5-502448e49f84",
   "metadata": {},
   "outputs": [
    {
     "data": {
      "text/plain": [
       "'0000000000000000nice'"
      ]
     },
     "execution_count": 23,
     "metadata": {},
     "output_type": "execute_result"
    }
   ],
   "source": [
    "'nice'.zfill(20)"
   ]
  },
  {
   "cell_type": "code",
   "execution_count": 24,
   "id": "6008efc2-96c4-47f1-a82f-a3118e853822",
   "metadata": {},
   "outputs": [
    {
     "ename": "AttributeError",
     "evalue": "'str' object has no attribute 'ofill'",
     "output_type": "error",
     "traceback": [
      "\u001b[0;31m---------------------------------------------------------------------------\u001b[0m",
      "\u001b[0;31mAttributeError\u001b[0m                            Traceback (most recent call last)",
      "Cell \u001b[0;32mIn[24], line 1\u001b[0m\n\u001b[0;32m----> 1\u001b[0m \u001b[38;5;124;43m'\u001b[39;49m\u001b[38;5;124;43mnice\u001b[39;49m\u001b[38;5;124;43m'\u001b[39;49m\u001b[38;5;241;43m.\u001b[39;49m\u001b[43mofill\u001b[49m(\u001b[38;5;241m20\u001b[39m)\n",
      "\u001b[0;31mAttributeError\u001b[0m: 'str' object has no attribute 'ofill'"
     ]
    }
   ],
   "source": [
    "'nice'.ofill(20)"
   ]
  },
  {
   "cell_type": "code",
   "execution_count": 25,
   "id": "3c480916-f826-48cd-ac5e-52e607bdc8dd",
   "metadata": {},
   "outputs": [
    {
     "data": {
      "text/plain": [
       "'40do46bun42.837choN73do58bun26.302choW'"
      ]
     },
     "execution_count": 25,
     "metadata": {},
     "output_type": "execute_result"
    }
   ],
   "source": [
    "d1 = '40do'\n",
    "m1 = '46bun'\n",
    "s1 = '42.837cho'\n",
    "u1 = 'N'\n",
    "\n",
    "d2 = '73do'\n",
    "m2 = '58bun'\n",
    "s2 = '26.302cho'\n",
    "u2 = 'W'\n",
    "\n",
    "coord1 = ''.join([d1, m1, s1, u1, d2, m2, s2, u2])\n",
    "coord1"
   ]
  },
  {
   "cell_type": "code",
   "execution_count": 26,
   "id": "731b803e-66af-430c-9472-3b01230dd218",
   "metadata": {},
   "outputs": [
    {
     "data": {
      "text/plain": [
       "'40do 46bun 42.837cho N 73do 58bun 26.302cho W'"
      ]
     },
     "execution_count": 26,
     "metadata": {},
     "output_type": "execute_result"
    }
   ],
   "source": [
    "coord2 = ' '.join([d1, m1, s1, u1, d2, m2, s2, u2])\n",
    "coord2"
   ]
  },
  {
   "cell_type": "code",
   "execution_count": 27,
   "id": "e85d26bd-cad7-4325-a3a4-8e793dfc5264",
   "metadata": {},
   "outputs": [],
   "source": [
    "multi_str = \"\"\"Guard: What? Ridden on a horse?\n",
    "King Arthur: Yes!\n",
    "Guard: You're using coconuts!\n",
    "King Arthur: What?\n",
    "Guard: You've got ... coconut[s] and you're bangin' 'em together.\n",
    "\"\"\""
   ]
  },
  {
   "cell_type": "code",
   "execution_count": 28,
   "id": "2a8dbda0-317d-4266-8860-1c08fe1daf07",
   "metadata": {},
   "outputs": [
    {
     "data": {
      "text/plain": [
       "\"Guard: What? Ridden on a horse?\\nKing Arthur: Yes!\\nGuard: You're using coconuts!\\nKing Arthur: What?\\nGuard: You've got ... coconut[s] and you're bangin' 'em together.\\n\""
      ]
     },
     "execution_count": 28,
     "metadata": {},
     "output_type": "execute_result"
    }
   ],
   "source": [
    "multi_str"
   ]
  },
  {
   "cell_type": "code",
   "execution_count": 29,
   "id": "9aecb52e-8d5f-42fb-acf8-f6a2e96ed11a",
   "metadata": {},
   "outputs": [],
   "source": [
    "multi_str_split = multi_str.splitlines()"
   ]
  },
  {
   "cell_type": "code",
   "execution_count": 30,
   "id": "6573ee4c-ce5f-41cd-847f-793efb88465e",
   "metadata": {},
   "outputs": [
    {
     "data": {
      "text/plain": [
       "['Guard: What? Ridden on a horse?',\n",
       " 'King Arthur: Yes!',\n",
       " \"Guard: You're using coconuts!\",\n",
       " 'King Arthur: What?',\n",
       " \"Guard: You've got ... coconut[s] and you're bangin' 'em together.\"]"
      ]
     },
     "execution_count": 30,
     "metadata": {},
     "output_type": "execute_result"
    }
   ],
   "source": [
    "multi_str_split"
   ]
  },
  {
   "cell_type": "code",
   "execution_count": 39,
   "id": "ad83992d-8c87-45d5-a695-21f1886f2b95",
   "metadata": {},
   "outputs": [],
   "source": [
    "var = 'flesh wound'\n",
    "s = \"It's just a {}!\""
   ]
  },
  {
   "cell_type": "code",
   "execution_count": 32,
   "id": "c3d41e9f-6b94-4899-a0c5-9d7b2105704b",
   "metadata": {},
   "outputs": [
    {
     "data": {
      "text/plain": [
       "\"It's just a flesh wound!\""
      ]
     },
     "execution_count": 32,
     "metadata": {},
     "output_type": "execute_result"
    }
   ],
   "source": [
    "s.format(var)"
   ]
  },
  {
   "cell_type": "code",
   "execution_count": 33,
   "id": "a80a93fd-01c9-4098-8263-f08fe7de9f0f",
   "metadata": {},
   "outputs": [],
   "source": [
    "s = \"\"\"Black Knight: 'Tis but a {0}.\n",
    "King Arthur: A {0}? Your arm's off!\n",
    "Let's go to a {1}.\n",
    "\"\"\""
   ]
  },
  {
   "cell_type": "code",
   "execution_count": 36,
   "id": "d6167333-73d6-411f-a1f7-7743bcaa198e",
   "metadata": {},
   "outputs": [
    {
     "data": {
      "text/plain": [
       "[\"Black Knight: 'Tis but a scratch.\",\n",
       " \"King Arthur: A scratch? Your arm's off!\",\n",
       " \"Let's go to a hospital.\"]"
      ]
     },
     "execution_count": 36,
     "metadata": {},
     "output_type": "execute_result"
    }
   ],
   "source": [
    "s.format('scratch', 'hospital').splitlines()"
   ]
  },
  {
   "cell_type": "code",
   "execution_count": 37,
   "id": "f9ac10f9-803f-4cea-a5d8-fa97298d6134",
   "metadata": {},
   "outputs": [],
   "source": [
    "s = 'Hayden Planetarium Coordinates: {lat}, {lon}, {lat} again'"
   ]
  },
  {
   "cell_type": "code",
   "execution_count": 38,
   "id": "0c553690-474a-42b2-9312-92bed8c77547",
   "metadata": {},
   "outputs": [
    {
     "data": {
      "text/plain": [
       "'Hayden Planetarium Coordinates: 40, 73, 40 again'"
      ]
     },
     "execution_count": 38,
     "metadata": {},
     "output_type": "execute_result"
    }
   ],
   "source": [
    "s.format(lat='40', lon='73')"
   ]
  },
  {
   "cell_type": "code",
   "execution_count": 40,
   "id": "2f81a551-b800-4b14-83cf-dad5854b00a4",
   "metadata": {},
   "outputs": [
    {
     "data": {
      "text/plain": [
       "\"It's just a 30000!\""
      ]
     },
     "execution_count": 40,
     "metadata": {},
     "output_type": "execute_result"
    }
   ],
   "source": [
    "s.format(30000)"
   ]
  },
  {
   "cell_type": "code",
   "execution_count": 61,
   "id": "857cad39-afff-4598-adb1-ce7972735d75",
   "metadata": {},
   "outputs": [],
   "source": [
    "s = \"It's just a {0:,}!\""
   ]
  },
  {
   "cell_type": "code",
   "execution_count": 62,
   "id": "bc4e75c1-4f00-4a63-be7f-795fae5ea896",
   "metadata": {},
   "outputs": [
    {
     "data": {
      "text/plain": [
       "\"It's just a 30,000!\""
      ]
     },
     "execution_count": 62,
     "metadata": {},
     "output_type": "execute_result"
    }
   ],
   "source": [
    "s.format(30000)"
   ]
  },
  {
   "cell_type": "code",
   "execution_count": 59,
   "id": "1721f989-acbc-485a-b22e-5d20b2c065a5",
   "metadata": {},
   "outputs": [],
   "source": [
    "s = \"It's just a {0:07d}.\""
   ]
  },
  {
   "cell_type": "code",
   "execution_count": 60,
   "id": "316ba230-456e-494a-9be4-a94b80b69b5f",
   "metadata": {},
   "outputs": [
    {
     "data": {
      "text/plain": [
       "\"It's just a 0000042.\""
      ]
     },
     "execution_count": 60,
     "metadata": {},
     "output_type": "execute_result"
    }
   ],
   "source": [
    "s.format(42)"
   ]
  },
  {
   "cell_type": "code",
   "execution_count": 71,
   "id": "12aa5fd4-381a-4ccf-af3b-b21a5e43868e",
   "metadata": {},
   "outputs": [
    {
     "data": {
      "text/plain": [
       "'sample 3 and 5'"
      ]
     },
     "execution_count": 71,
     "metadata": {},
     "output_type": "execute_result"
    }
   ],
   "source": [
    "'sample %(var1)d and %(var2)d' % {'var1':3, 'var2':5}"
   ]
  },
  {
   "cell_type": "code",
   "execution_count": 68,
   "id": "72743a47-88ba-40cd-959b-85213c868444",
   "metadata": {},
   "outputs": [
    {
     "data": {
      "text/plain": [
       "'sample test'"
      ]
     },
     "execution_count": 68,
     "metadata": {},
     "output_type": "execute_result"
    }
   ],
   "source": [
    "'sample %s' % 'test'"
   ]
  },
  {
   "cell_type": "code",
   "execution_count": 66,
   "id": "9ee06735-2030-42d8-9d52-baaa24bb46a1",
   "metadata": {},
   "outputs": [
    {
     "data": {
      "text/plain": [
       "'Some digits of e: 2.718'"
      ]
     },
     "execution_count": 66,
     "metadata": {},
     "output_type": "execute_result"
    }
   ],
   "source": [
    "'Some digits of %(cont)s: %(value)s' % {'cont' : 'e', 'value' : 2.718}"
   ]
  },
  {
   "cell_type": "code",
   "execution_count": 70,
   "id": "f26a7f24-b8ba-4384-b996-1018e253bb94",
   "metadata": {},
   "outputs": [
    {
     "data": {
      "text/plain": [
       "'sample test2 and test1'"
      ]
     },
     "execution_count": 70,
     "metadata": {},
     "output_type": "execute_result"
    }
   ],
   "source": [
    "'sample %(n2)s and %(n1)s' % {'n1':'test1', 'n2':'test2'}"
   ]
  },
  {
   "cell_type": "code",
   "execution_count": 73,
   "id": "9d4cb334-bf0e-4a01-b74e-5603a1e5eafe",
   "metadata": {},
   "outputs": [
    {
     "name": "stdout",
     "output_type": "stream",
     "text": [
      "This is an apple and a banana\n"
     ]
    }
   ],
   "source": [
    "var1 = 'apple'\n",
    "var2 = 'banana'\n",
    "\n",
    "print(f\"This is an {var1} and a {var2}\")"
   ]
  },
  {
   "cell_type": "code",
   "execution_count": 80,
   "id": "9d2439a2-c506-41cb-bc37-23684097864c",
   "metadata": {},
   "outputs": [
    {
     "data": {
      "text/plain": [
       "'test 00039'"
      ]
     },
     "execution_count": 80,
     "metadata": {},
     "output_type": "execute_result"
    }
   ],
   "source": [
    "\"test %05d\" % 39"
   ]
  },
  {
   "cell_type": "code",
   "execution_count": null,
   "id": "2481f4b9-cb95-4bb0-a1ec-1fb52e530ac5",
   "metadata": {},
   "outputs": [],
   "source": []
  }
 ],
 "metadata": {
  "kernelspec": {
   "display_name": "Python 3 (ipykernel)",
   "language": "python",
   "name": "python3"
  },
  "language_info": {
   "codemirror_mode": {
    "name": "ipython",
    "version": 3
   },
   "file_extension": ".py",
   "mimetype": "text/x-python",
   "name": "python",
   "nbconvert_exporter": "python",
   "pygments_lexer": "ipython3",
   "version": "3.12.1"
  }
 },
 "nbformat": 4,
 "nbformat_minor": 5
}
