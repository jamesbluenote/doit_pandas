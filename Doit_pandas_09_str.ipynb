{
 "cells": [
  {
   "cell_type": "markdown",
   "id": "ac97e1cb-1ceb-4d31-9338-42acc8e4841e",
   "metadata": {},
   "source": [
    "# Ch-09. 문자열 처리\n",
    "## 09-1. 문자열 다루기"
   ]
  },
  {
   "cell_type": "markdown",
   "id": "9452d51d-f34a-440b-90aa-5871be1aeffe",
   "metadata": {},
   "source": [
    "### - (p.186) 인덱스로 문자열 추출"
   ]
  },
  {
   "cell_type": "code",
   "execution_count": 1,
   "id": "ff33d168-fb08-453e-9ec0-3e44c9f0ea88",
   "metadata": {},
   "outputs": [],
   "source": [
    "word = 'grail'\n",
    "sent = 'a scratch'"
   ]
  },
  {
   "cell_type": "markdown",
   "id": "b36df38a-8a71-4a05-ae44-1afa1199201c",
   "metadata": {},
   "source": [
    "#### * 첫 번째 문자 추출"
   ]
  },
  {
   "cell_type": "code",
   "execution_count": 3,
   "id": "ca3aee77-4b8b-4e35-af6c-8a40b4528eb9",
   "metadata": {},
   "outputs": [
    {
     "data": {
      "text/plain": [
       "'g'"
      ]
     },
     "execution_count": 3,
     "metadata": {},
     "output_type": "execute_result"
    }
   ],
   "source": [
    "word[0]"
   ]
  },
  {
   "cell_type": "markdown",
   "id": "95a99c5f-f4a8-4b7b-8bc2-e6c8872f2caf",
   "metadata": {},
   "source": [
    "#### * 마지막 문자 추출"
   ]
  },
  {
   "cell_type": "code",
   "execution_count": 11,
   "id": "a0f68a5d-2168-4397-b8d2-cde2edbebc9d",
   "metadata": {},
   "outputs": [
    {
     "data": {
      "text/plain": [
       "'h'"
      ]
     },
     "execution_count": 11,
     "metadata": {},
     "output_type": "execute_result"
    }
   ],
   "source": [
    "sent[-1]"
   ]
  },
  {
   "cell_type": "markdown",
   "id": "36b10d4c-c93b-457a-8388-d027df4d7aae",
   "metadata": {},
   "source": [
    "#### * 인덱스 슬라이싱"
   ]
  },
  {
   "cell_type": "code",
   "execution_count": 5,
   "id": "7851111f-f237-4bd3-974c-2aae53eb4479",
   "metadata": {},
   "outputs": [
    {
     "data": {
      "text/plain": [
       "'gra'"
      ]
     },
     "execution_count": 5,
     "metadata": {},
     "output_type": "execute_result"
    }
   ],
   "source": [
    "word[0:3]"
   ]
  },
  {
   "cell_type": "markdown",
   "id": "924369c5-3306-4555-b4e0-76e2acd04cd2",
   "metadata": {},
   "source": [
    "#### * 음수 인덱스"
   ]
  },
  {
   "cell_type": "code",
   "execution_count": 7,
   "id": "4808ea86-8959-4928-ba7f-d7f6f6949b60",
   "metadata": {},
   "outputs": [
    {
     "data": {
      "text/plain": [
       "'a'"
      ]
     },
     "execution_count": 7,
     "metadata": {},
     "output_type": "execute_result"
    }
   ],
   "source": [
    "sent[-9:-8]"
   ]
  },
  {
   "cell_type": "code",
   "execution_count": 10,
   "id": "008f182b-b2e4-4873-9de6-5d2f10447fe8",
   "metadata": {},
   "outputs": [
    {
     "data": {
      "text/plain": [
       "'a s'"
      ]
     },
     "execution_count": 10,
     "metadata": {},
     "output_type": "execute_result"
    }
   ],
   "source": [
    "sent[0:-6]"
   ]
  },
  {
   "cell_type": "markdown",
   "id": "33d82517-e252-4e30-87d0-04c2f2597f9f",
   "metadata": {},
   "source": [
    "#### * 문자열 끝까지 추출: len() 활용"
   ]
  },
  {
   "cell_type": "code",
   "execution_count": 12,
   "id": "0638bd29-ed1d-46ae-8f0f-e51c8daf5d92",
   "metadata": {},
   "outputs": [
    {
     "data": {
      "text/plain": [
       "'scratc'"
      ]
     },
     "execution_count": 12,
     "metadata": {},
     "output_type": "execute_result"
    }
   ],
   "source": [
    "sent[-7:-1]"
   ]
  },
  {
   "cell_type": "code",
   "execution_count": 17,
   "id": "cd159780-0f1d-4115-9113-995dc39132f7",
   "metadata": {},
   "outputs": [
    {
     "data": {
      "text/plain": [
       "'scratch'"
      ]
     },
     "execution_count": 17,
     "metadata": {},
     "output_type": "execute_result"
    }
   ],
   "source": [
    "sent[2:len(sent)]"
   ]
  },
  {
   "cell_type": "code",
   "execution_count": 18,
   "id": "3de75437-61d1-49bc-8a7c-a619678e9dd6",
   "metadata": {},
   "outputs": [
    {
     "data": {
      "text/plain": [
       "'scratch'"
      ]
     },
     "execution_count": 18,
     "metadata": {},
     "output_type": "execute_result"
    }
   ],
   "source": [
    "sent[2:]"
   ]
  },
  {
   "cell_type": "code",
   "execution_count": 15,
   "id": "a125abb4-9051-403c-91ae-da5b40f4772f",
   "metadata": {},
   "outputs": [
    {
     "data": {
      "text/plain": [
       "'a scratch'"
      ]
     },
     "execution_count": 15,
     "metadata": {},
     "output_type": "execute_result"
    }
   ],
   "source": [
    "sent"
   ]
  },
  {
   "cell_type": "markdown",
   "id": "e9f34df8-1108-4293-991d-296b9246c7ee",
   "metadata": {},
   "source": [
    "### - (p.187) 전체 문자열 추출"
   ]
  },
  {
   "cell_type": "markdown",
   "id": "022f475c-27c6-428f-b9a2-8425ebda21f7",
   "metadata": {},
   "source": [
    "#### * 왼쪽범위 비우기"
   ]
  },
  {
   "cell_type": "code",
   "execution_count": 19,
   "id": "82355122-21b3-4ad8-9f52-bb61f9e6e7b3",
   "metadata": {},
   "outputs": [
    {
     "data": {
      "text/plain": [
       "'gra'"
      ]
     },
     "execution_count": 19,
     "metadata": {},
     "output_type": "execute_result"
    }
   ],
   "source": [
    "word[0:3]"
   ]
  },
  {
   "cell_type": "code",
   "execution_count": 20,
   "id": "a08fee60-1458-4bd9-84c4-14b472626e7b",
   "metadata": {},
   "outputs": [
    {
     "data": {
      "text/plain": [
       "'gra'"
      ]
     },
     "execution_count": 20,
     "metadata": {},
     "output_type": "execute_result"
    }
   ],
   "source": [
    "word[:3]"
   ]
  },
  {
   "cell_type": "markdown",
   "id": "fd565198-fb1f-45de-8b73-e62e9813e0dd",
   "metadata": {},
   "source": [
    "#### * 오른쪽 범위 비우기"
   ]
  },
  {
   "cell_type": "code",
   "execution_count": 22,
   "id": "038c2f36-c13d-41c6-b063-63e664f8c1b3",
   "metadata": {},
   "outputs": [
    {
     "data": {
      "text/plain": [
       "'ail'"
      ]
     },
     "execution_count": 22,
     "metadata": {},
     "output_type": "execute_result"
    }
   ],
   "source": [
    "word[2:]"
   ]
  },
  {
   "cell_type": "code",
   "execution_count": 23,
   "id": "9bca4ea1-27cc-46ec-9426-1f5749585e3f",
   "metadata": {},
   "outputs": [
    {
     "data": {
      "text/plain": [
       "'ail'"
      ]
     },
     "execution_count": 23,
     "metadata": {},
     "output_type": "execute_result"
    }
   ],
   "source": [
    "word[2:len(word)]"
   ]
  },
  {
   "cell_type": "markdown",
   "id": "47120ff4-cee5-4504-89fc-047f0b5e5c98",
   "metadata": {},
   "source": [
    "#### * 양쪽 범위 비우기"
   ]
  },
  {
   "cell_type": "code",
   "execution_count": 24,
   "id": "128838ef-0089-4b99-81da-2a1c702d4353",
   "metadata": {},
   "outputs": [
    {
     "data": {
      "text/plain": [
       "'grail'"
      ]
     },
     "execution_count": 24,
     "metadata": {},
     "output_type": "execute_result"
    }
   ],
   "source": [
    "word[:]"
   ]
  },
  {
   "cell_type": "markdown",
   "id": "fc1083ac-d6b6-4568-a9db-cd3eea116216",
   "metadata": {},
   "source": [
    "#### * 일정한 간격으로 건너뛰며 추출"
   ]
  },
  {
   "cell_type": "code",
   "execution_count": 27,
   "id": "ed5ddd17-0fa9-47f9-9e30-c8fcc392f282",
   "metadata": {},
   "outputs": [
    {
     "data": {
      "text/plain": [
       "'gal'"
      ]
     },
     "execution_count": 27,
     "metadata": {},
     "output_type": "execute_result"
    }
   ],
   "source": [
    "word[::2]"
   ]
  },
  {
   "cell_type": "code",
   "execution_count": 28,
   "id": "cdcb8d86-e5c1-4b95-8d14-3a399056bc1a",
   "metadata": {},
   "outputs": [
    {
     "data": {
      "text/plain": [
       "'act'"
      ]
     },
     "execution_count": 28,
     "metadata": {},
     "output_type": "execute_result"
    }
   ],
   "source": [
    "sent[::3]"
   ]
  },
  {
   "cell_type": "markdown",
   "id": "fa553bb6-49a0-4575-9549-c5a25ffa3eae",
   "metadata": {},
   "source": [
    "## 09-2. 문자열 메서드"
   ]
  },
  {
   "cell_type": "markdown",
   "id": "29bd40a2-95b2-4d79-b8d8-57a735a99c70",
   "metadata": {},
   "source": [
    "### (p.189) 기본 문자열 메서드"
   ]
  },
  {
   "cell_type": "markdown",
   "id": "4e25bfbd-c307-4edf-8e8b-2bc676265be5",
   "metadata": {},
   "source": [
    "#### * len()"
   ]
  },
  {
   "cell_type": "code",
   "execution_count": 36,
   "id": "bf49c55c-fb6c-46b6-874b-9782df6af0cc",
   "metadata": {},
   "outputs": [
    {
     "data": {
      "text/plain": [
       "24"
      ]
     },
     "execution_count": 36,
     "metadata": {},
     "output_type": "execute_result"
    }
   ],
   "source": [
    "len(\"It's just a flesh wound!\")"
   ]
  },
  {
   "cell_type": "markdown",
   "id": "8f10a286-c7ed-417f-bec4-fb938c720075",
   "metadata": {},
   "source": [
    "#### * capitalize()"
   ]
  },
  {
   "cell_type": "code",
   "execution_count": 30,
   "id": "2e398c6b-b88c-46b4-adc3-bbddcec05345",
   "metadata": {},
   "outputs": [
    {
     "data": {
      "text/plain": [
       "'Black knight'"
      ]
     },
     "execution_count": 30,
     "metadata": {},
     "output_type": "execute_result"
    }
   ],
   "source": [
    "'black KNIGHT'.capitalize()"
   ]
  },
  {
   "cell_type": "markdown",
   "id": "26fb61ea-12cc-4d71-9c7c-3e5ed4f5d929",
   "metadata": {},
   "source": [
    "#### * count()"
   ]
  },
  {
   "cell_type": "code",
   "execution_count": 64,
   "id": "c2563dc2-bf4b-4f7f-8b4d-69ad94b6e1c3",
   "metadata": {},
   "outputs": [
    {
     "data": {
      "text/plain": [
       "2"
      ]
     },
     "execution_count": 64,
     "metadata": {},
     "output_type": "execute_result"
    }
   ],
   "source": [
    "\"It's just a flesh wound!\".count('u')"
   ]
  },
  {
   "cell_type": "code",
   "execution_count": 65,
   "id": "7df6d48e-9992-4541-911b-7f58cc2dda47",
   "metadata": {},
   "outputs": [
    {
     "data": {
      "text/plain": [
       "0"
      ]
     },
     "execution_count": 65,
     "metadata": {},
     "output_type": "execute_result"
    }
   ],
   "source": [
    "\"It's just a flesh wound!\".count('ua')"
   ]
  },
  {
   "cell_type": "markdown",
   "id": "ba78a672-62f3-46b3-8b0c-bffd22fc7dee",
   "metadata": {},
   "source": [
    "#### * startswith()"
   ]
  },
  {
   "cell_type": "code",
   "execution_count": 44,
   "id": "b1679f8d-4a56-4e07-96b8-6e4d77db814e",
   "metadata": {},
   "outputs": [
    {
     "data": {
      "text/plain": [
       "True"
      ]
     },
     "execution_count": 44,
     "metadata": {},
     "output_type": "execute_result"
    }
   ],
   "source": [
    "\"Halt! Who goes there?\".startswith('Halt')"
   ]
  },
  {
   "cell_type": "code",
   "execution_count": 66,
   "id": "e9d5a361-592c-4c17-916a-0884a85cf688",
   "metadata": {},
   "outputs": [
    {
     "data": {
      "text/plain": [
       "False"
      ]
     },
     "execution_count": 66,
     "metadata": {},
     "output_type": "execute_result"
    }
   ],
   "source": [
    "\"Halt! Who goes there?\".startswith('halt')"
   ]
  },
  {
   "cell_type": "markdown",
   "id": "f39e324e-cab4-4a67-bb10-0cd257d6e797",
   "metadata": {},
   "source": [
    "#### * endswith()"
   ]
  },
  {
   "cell_type": "code",
   "execution_count": 45,
   "id": "1beaefb1-132f-4775-9f27-4919c427538e",
   "metadata": {},
   "outputs": [
    {
     "data": {
      "text/plain": [
       "True"
      ]
     },
     "execution_count": 45,
     "metadata": {},
     "output_type": "execute_result"
    }
   ],
   "source": [
    "\"coconut\".endswith('nut')"
   ]
  },
  {
   "cell_type": "code",
   "execution_count": 67,
   "id": "3369e7a2-018d-492a-9f88-bf6690bb421a",
   "metadata": {},
   "outputs": [
    {
     "data": {
      "text/plain": [
       "False"
      ]
     },
     "execution_count": 67,
     "metadata": {},
     "output_type": "execute_result"
    }
   ],
   "source": [
    "\"coconut\".endswith('nuts')"
   ]
  },
  {
   "cell_type": "markdown",
   "id": "ca560b21-16fb-4159-a4bb-45e81f8a6fb4",
   "metadata": {},
   "source": [
    "#### * find()"
   ]
  },
  {
   "cell_type": "code",
   "execution_count": 68,
   "id": "9662a571-448f-440c-bb48-c3bba1e947ff",
   "metadata": {},
   "outputs": [
    {
     "data": {
      "text/plain": [
       "6"
      ]
     },
     "execution_count": 68,
     "metadata": {},
     "output_type": "execute_result"
    }
   ],
   "source": [
    "\"It's just a flesh wound!\".find('u')"
   ]
  },
  {
   "cell_type": "code",
   "execution_count": 69,
   "id": "0ec4b73f-0988-4595-8966-e8b635bfbe1b",
   "metadata": {},
   "outputs": [
    {
     "data": {
      "text/plain": [
       "-1"
      ]
     },
     "execution_count": 69,
     "metadata": {},
     "output_type": "execute_result"
    }
   ],
   "source": [
    "# 찾는 문자가 없을 경우, -1 반환\n",
    "\"It's just a flesh wound!\".find('ua')"
   ]
  },
  {
   "cell_type": "markdown",
   "id": "afe50b29-a275-40b1-8361-c1dce5689878",
   "metadata": {},
   "source": [
    "#### * index()"
   ]
  },
  {
   "cell_type": "code",
   "execution_count": 70,
   "id": "40c5e1ec-0a64-482c-bab8-2dca9464e39a",
   "metadata": {},
   "outputs": [
    {
     "data": {
      "text/plain": [
       "6"
      ]
     },
     "execution_count": 70,
     "metadata": {},
     "output_type": "execute_result"
    }
   ],
   "source": [
    "\"It's just a flesh wound!\".index('u')"
   ]
  },
  {
   "cell_type": "code",
   "execution_count": 71,
   "id": "03a322e1-6be0-40e9-a2a3-97d10db37cb9",
   "metadata": {},
   "outputs": [
    {
     "ename": "ValueError",
     "evalue": "substring not found",
     "output_type": "error",
     "traceback": [
      "\u001b[1;31m---------------------------------------------------------------------------\u001b[0m",
      "\u001b[1;31mValueError\u001b[0m                                Traceback (most recent call last)",
      "\u001b[1;32m~\\AppData\\Local\\Temp\\ipykernel_4424\\2008861065.py\u001b[0m in \u001b[0;36m<module>\u001b[1;34m\u001b[0m\n\u001b[0;32m      1\u001b[0m \u001b[1;31m# 찾는 문자가 없을 경우, ValueError 발생\u001b[0m\u001b[1;33m\u001b[0m\u001b[1;33m\u001b[0m\u001b[0m\n\u001b[1;32m----> 2\u001b[1;33m \u001b[1;34m\"It's just a flesh wound!\"\u001b[0m\u001b[1;33m.\u001b[0m\u001b[0mindex\u001b[0m\u001b[1;33m(\u001b[0m\u001b[1;34m'ua'\u001b[0m\u001b[1;33m)\u001b[0m\u001b[1;33m\u001b[0m\u001b[1;33m\u001b[0m\u001b[0m\n\u001b[0m",
      "\u001b[1;31mValueError\u001b[0m: substring not found"
     ]
    }
   ],
   "source": [
    "# 찾는 문자가 없을 경우, ValueError 발생\n",
    "\"It's just a flesh wound!\".index('ua')"
   ]
  },
  {
   "cell_type": "markdown",
   "id": "81e7933e-c974-45b2-ba48-f5753ac4ff6a",
   "metadata": {},
   "source": [
    "#### * isalpha()"
   ]
  },
  {
   "cell_type": "code",
   "execution_count": 72,
   "id": "119a3cbb-6115-4c40-af90-9c76312cfdb1",
   "metadata": {},
   "outputs": [
    {
     "data": {
      "text/plain": [
       "True"
      ]
     },
     "execution_count": 72,
     "metadata": {},
     "output_type": "execute_result"
    }
   ],
   "source": [
    "\"oldwoman\".isalpha()"
   ]
  },
  {
   "cell_type": "code",
   "execution_count": 73,
   "id": "957c8561-c7db-4bcf-bb4b-55c372c5a79b",
   "metadata": {},
   "outputs": [
    {
     "data": {
      "text/plain": [
       "False"
      ]
     },
     "execution_count": 73,
     "metadata": {},
     "output_type": "execute_result"
    }
   ],
   "source": [
    "\"old woman\".isalpha()"
   ]
  },
  {
   "cell_type": "markdown",
   "id": "6d92aefb-9906-4d9c-a1ee-5a80c6772e1f",
   "metadata": {},
   "source": [
    "#### * isdecimal()"
   ]
  },
  {
   "cell_type": "code",
   "execution_count": 74,
   "id": "e3323fc1-52c0-4fc0-b38b-4887ec641ac5",
   "metadata": {},
   "outputs": [
    {
     "data": {
      "text/plain": [
       "True"
      ]
     },
     "execution_count": 74,
     "metadata": {},
     "output_type": "execute_result"
    }
   ],
   "source": [
    "\"37\".isdecimal()"
   ]
  },
  {
   "cell_type": "code",
   "execution_count": 75,
   "id": "89ae692b-aa8f-418e-823b-ac9d85c5b58c",
   "metadata": {},
   "outputs": [
    {
     "data": {
      "text/plain": [
       "False"
      ]
     },
     "execution_count": 75,
     "metadata": {},
     "output_type": "execute_result"
    }
   ],
   "source": [
    "\"37th\".isdecimal()"
   ]
  },
  {
   "cell_type": "markdown",
   "id": "17961214-5019-401d-b45c-f1173eed24a3",
   "metadata": {},
   "source": [
    "#### * isalnum()"
   ]
  },
  {
   "cell_type": "code",
   "execution_count": 78,
   "id": "a98fded7-e431-4494-b7ce-52bac93fabcc",
   "metadata": {},
   "outputs": [
    {
     "data": {
      "text/plain": [
       "True"
      ]
     },
     "execution_count": 78,
     "metadata": {},
     "output_type": "execute_result"
    }
   ],
   "source": [
    "\"IAm37YearsOld\".isalnum()"
   ]
  },
  {
   "cell_type": "code",
   "execution_count": 79,
   "id": "20fd3f6c-67b2-4f86-9e1f-1844b205ce23",
   "metadata": {},
   "outputs": [
    {
     "data": {
      "text/plain": [
       "False"
      ]
     },
     "execution_count": 79,
     "metadata": {},
     "output_type": "execute_result"
    }
   ],
   "source": [
    "\"I am 37 years old\".isalnum()"
   ]
  },
  {
   "cell_type": "markdown",
   "id": "c170247f-4a2e-4a3e-aa75-be59c1bf5d2e",
   "metadata": {},
   "source": [
    "#### * lower()"
   ]
  },
  {
   "cell_type": "code",
   "execution_count": 80,
   "id": "fd8bb33a-8bf6-4566-b964-b95f00146f95",
   "metadata": {},
   "outputs": [
    {
     "data": {
      "text/plain": [
       "'black knight'"
      ]
     },
     "execution_count": 80,
     "metadata": {},
     "output_type": "execute_result"
    }
   ],
   "source": [
    "\"Black Knight\".lower()"
   ]
  },
  {
   "cell_type": "markdown",
   "id": "cf86a6a4-30e9-44f3-aa1f-f7c04741e3ee",
   "metadata": {},
   "source": [
    "#### * upper()"
   ]
  },
  {
   "cell_type": "code",
   "execution_count": 81,
   "id": "9f981f54-e629-412e-9660-ac5bd6998880",
   "metadata": {},
   "outputs": [
    {
     "data": {
      "text/plain": [
       "'BLACK KNIGHT'"
      ]
     },
     "execution_count": 81,
     "metadata": {},
     "output_type": "execute_result"
    }
   ],
   "source": [
    "\"Black Knight\".upper()"
   ]
  },
  {
   "cell_type": "markdown",
   "id": "56265e8f-27b1-4114-bb0d-06407233ce43",
   "metadata": {},
   "source": [
    "#### * replace()"
   ]
  },
  {
   "cell_type": "code",
   "execution_count": 82,
   "id": "601b9da5-9ec2-4ee0-b855-2a4487d89f55",
   "metadata": {},
   "outputs": [
    {
     "data": {
      "text/plain": [
       "'fresh grape!'"
      ]
     },
     "execution_count": 82,
     "metadata": {},
     "output_type": "execute_result"
    }
   ],
   "source": [
    "\"fresh apple!\".replace('apple', 'grape')"
   ]
  },
  {
   "cell_type": "markdown",
   "id": "e5f8c045-c072-463c-8885-a5e5b4353480",
   "metadata": {},
   "source": [
    "#### * strip()"
   ]
  },
  {
   "cell_type": "code",
   "execution_count": 83,
   "id": "af4ed078-80b2-4007-8202-957ee5c8b14c",
   "metadata": {},
   "outputs": [
    {
     "data": {
      "text/plain": [
       "\"I'm not dead.\""
      ]
     },
     "execution_count": 83,
     "metadata": {},
     "output_type": "execute_result"
    }
   ],
   "source": [
    "\"I'm not dead.    \".strip()"
   ]
  },
  {
   "cell_type": "markdown",
   "id": "6e840a33-4516-4a7a-9c53-3412ae5a136b",
   "metadata": {},
   "source": [
    "#### * split(sep=)"
   ]
  },
  {
   "cell_type": "code",
   "execution_count": 85,
   "id": "7f5472dc-8544-4b6b-be5d-8a709b58fc0e",
   "metadata": {},
   "outputs": [
    {
     "data": {
      "text/plain": [
       "['Go!', 'Go!', 'Go!', 'Go!']"
      ]
     },
     "execution_count": 85,
     "metadata": {},
     "output_type": "execute_result"
    }
   ],
   "source": [
    "\"Go! Go! Go! Go!\".split(sep=' ')"
   ]
  },
  {
   "cell_type": "code",
   "execution_count": 88,
   "id": "6d384baa-ddd7-4cff-83ab-e10399261182",
   "metadata": {},
   "outputs": [
    {
     "data": {
      "text/plain": [
       "['james.park', 'gmail.com']"
      ]
     },
     "execution_count": 88,
     "metadata": {},
     "output_type": "execute_result"
    }
   ],
   "source": [
    "\"james.park@gmail.com\".split(sep = '@')"
   ]
  },
  {
   "cell_type": "markdown",
   "id": "712ea037-4bb9-4fd6-ba66-e0a533adfe9c",
   "metadata": {},
   "source": [
    "#### * partition()"
   ]
  },
  {
   "cell_type": "code",
   "execution_count": 89,
   "id": "cf85a999-1250-4b82-8a81-19a5b90a365d",
   "metadata": {},
   "outputs": [
    {
     "data": {
      "text/plain": [
       "('Go!', ' ', 'Go! Go! Go!')"
      ]
     },
     "execution_count": 89,
     "metadata": {},
     "output_type": "execute_result"
    }
   ],
   "source": [
    "\"Go! Go! Go! Go!\".partition(' ')"
   ]
  },
  {
   "cell_type": "code",
   "execution_count": 90,
   "id": "4ca62742-c1f1-4882-81e9-3702eba36642",
   "metadata": {},
   "outputs": [
    {
     "data": {
      "text/plain": [
       "('3', ',', '4')"
      ]
     },
     "execution_count": 90,
     "metadata": {},
     "output_type": "execute_result"
    }
   ],
   "source": [
    "\"3,4\".partition(',')"
   ]
  },
  {
   "cell_type": "code",
   "execution_count": 91,
   "id": "6390a9dd-82e8-4232-8f15-0af3a22f4766",
   "metadata": {},
   "outputs": [
    {
     "data": {
      "text/plain": [
       "('james.park', '@', 'gmail.com')"
      ]
     },
     "execution_count": 91,
     "metadata": {},
     "output_type": "execute_result"
    }
   ],
   "source": [
    "\"james.park@gmail.com\".partition('@')"
   ]
  },
  {
   "cell_type": "markdown",
   "id": "217ba502-c58b-42cd-95a7-338c20156cd5",
   "metadata": {},
   "source": [
    "#### * center()"
   ]
  },
  {
   "cell_type": "code",
   "execution_count": 96,
   "id": "83f2101d-fbb8-469c-91ce-501b2673a373",
   "metadata": {},
   "outputs": [
    {
     "data": {
      "text/plain": [
       "'        nine        '"
      ]
     },
     "execution_count": 96,
     "metadata": {},
     "output_type": "execute_result"
    }
   ],
   "source": [
    "\"nine\".center(20)"
   ]
  },
  {
   "cell_type": "markdown",
   "id": "02bc3c85-e3c1-4a61-a797-a9e374aa9907",
   "metadata": {},
   "source": [
    "#### * zfill()"
   ]
  },
  {
   "cell_type": "code",
   "execution_count": 112,
   "id": "ecfa312f-2611-4ac4-bff9-51fb3e30b46a",
   "metadata": {},
   "outputs": [
    {
     "data": {
      "text/plain": [
       "'00000hello'"
      ]
     },
     "execution_count": 112,
     "metadata": {},
     "output_type": "execute_result"
    }
   ],
   "source": [
    "\"hello\".zfill(10)"
   ]
  },
  {
   "cell_type": "markdown",
   "id": "d2eea176-a3e8-43d3-8dbe-ab55bac23df7",
   "metadata": {},
   "source": [
    "### - (p.191) join, splitlines, replace 메서드"
   ]
  },
  {
   "cell_type": "markdown",
   "id": "66cb5349-3de9-4264-b86a-9529b7234484",
   "metadata": {},
   "source": [
    "#### (1) join()"
   ]
  },
  {
   "cell_type": "code",
   "execution_count": 126,
   "id": "eeb081a3-db1a-4052-9be0-deeb6ddfadcd",
   "metadata": {},
   "outputs": [
    {
     "data": {
      "text/plain": [
       "'40do46bun42.837choN73do58bun26.302choW'"
      ]
     },
     "execution_count": 126,
     "metadata": {},
     "output_type": "execute_result"
    }
   ],
   "source": [
    "d1 = '40do'\n",
    "m1 = '46bun'\n",
    "s1 = '42.837cho'\n",
    "u1 = 'N'\n",
    "\n",
    "d2 = '73do'\n",
    "m2 = '58bun'\n",
    "s2 = '26.302cho'\n",
    "u2 = 'W'\n",
    "\n",
    "coord1 = ''.join([d1, m1, s1, u1, d2, m2, s2, u2])\n",
    "coord1"
   ]
  },
  {
   "cell_type": "code",
   "execution_count": 127,
   "id": "95aff0a3-3b85-4838-832a-c83b113fd461",
   "metadata": {},
   "outputs": [
    {
     "data": {
      "text/plain": [
       "'40do 46bun 42.837cho N 73do 58bun 26.302cho W'"
      ]
     },
     "execution_count": 127,
     "metadata": {},
     "output_type": "execute_result"
    }
   ],
   "source": [
    "coord2 = ' '.join([d1, m1, s1, u1, d2, m2, s2, u2])\n",
    "coord2"
   ]
  },
  {
   "cell_type": "code",
   "execution_count": 128,
   "id": "89418f95-e5e6-45e1-ae50-935a3a79b5c1",
   "metadata": {},
   "outputs": [
    {
     "data": {
      "text/plain": [
       "'40do,46bun,42.837cho,N,73do,58bun,26.302cho,W'"
      ]
     },
     "execution_count": 128,
     "metadata": {},
     "output_type": "execute_result"
    }
   ],
   "source": [
    "coord3 = ','.join([d1, m1, s1, u1, d2, m2, s2, u2])\n",
    "coord3"
   ]
  },
  {
   "cell_type": "code",
   "execution_count": 129,
   "id": "4c7026c9-7f6e-4f64-ae69-ce5056ba8db9",
   "metadata": {},
   "outputs": [
    {
     "data": {
      "text/plain": [
       "'40do, 46bun, 42.837cho, N, 73do, 58bun, 26.302cho, W'"
      ]
     },
     "execution_count": 129,
     "metadata": {},
     "output_type": "execute_result"
    }
   ],
   "source": [
    "coord4 = ', '.join([d1, m1, s1, u1, d2, m2, s2, u2])\n",
    "coord4"
   ]
  },
  {
   "cell_type": "markdown",
   "id": "feaeb9bf-062e-40be-a928-befae7765789",
   "metadata": {},
   "source": [
    "#### (2) splitlines()"
   ]
  },
  {
   "cell_type": "code",
   "execution_count": 2,
   "id": "cb950cf3-b5d4-4b7b-8c8c-382b07168699",
   "metadata": {},
   "outputs": [],
   "source": [
    "multi_str = \"\"\"Guard: What? Ridden on a horse?\n",
    "King Arthur: Yes!\n",
    "Guard: You're using coconuts!\n",
    "King Arthur: What?\n",
    "Guard: You've got ... coconut[s] and you're bangin' 'em together.\n",
    "\"\"\""
   ]
  },
  {
   "cell_type": "code",
   "execution_count": 3,
   "id": "c6eae16b-2e0a-4ad1-b7e8-b078397c521f",
   "metadata": {},
   "outputs": [
    {
     "data": {
      "text/plain": [
       "\"Guard: What? Ridden on a horse?\\nKing Arthur: Yes!\\nGuard: You're using coconuts!\\nKing Arthur: What?\\nGuard: You've got ... coconut[s] and you're bangin' 'em together.\\n\""
      ]
     },
     "execution_count": 3,
     "metadata": {},
     "output_type": "execute_result"
    }
   ],
   "source": [
    "multi_str"
   ]
  },
  {
   "cell_type": "code",
   "execution_count": 4,
   "id": "ad6d2b6b-a6b0-43fe-a71b-b153da3690a2",
   "metadata": {},
   "outputs": [],
   "source": [
    "multi_str_split = multi_str.splitlines()"
   ]
  },
  {
   "cell_type": "code",
   "execution_count": 5,
   "id": "c7e11da9-213c-46a0-9ae6-aba5c9f37114",
   "metadata": {},
   "outputs": [
    {
     "data": {
      "text/plain": [
       "['Guard: What? Ridden on a horse?',\n",
       " 'King Arthur: Yes!',\n",
       " \"Guard: You're using coconuts!\",\n",
       " 'King Arthur: What?',\n",
       " \"Guard: You've got ... coconut[s] and you're bangin' 'em together.\"]"
      ]
     },
     "execution_count": 5,
     "metadata": {},
     "output_type": "execute_result"
    }
   ],
   "source": [
    "multi_str_split"
   ]
  },
  {
   "cell_type": "code",
   "execution_count": 6,
   "id": "74ac71e1-6420-493e-ab89-9509cbba52c9",
   "metadata": {},
   "outputs": [
    {
     "data": {
      "text/plain": [
       "list"
      ]
     },
     "execution_count": 6,
     "metadata": {},
     "output_type": "execute_result"
    }
   ],
   "source": [
    "type(multi_str_split)"
   ]
  },
  {
   "cell_type": "markdown",
   "id": "3b2f938e-f21d-4b55-a4ab-ff350a24abf4",
   "metadata": {},
   "source": [
    "##### * 인덱스 슬라이싱"
   ]
  },
  {
   "cell_type": "code",
   "execution_count": 7,
   "id": "fa836cbb-390e-4dd3-97c6-2fbf60f86278",
   "metadata": {},
   "outputs": [],
   "source": [
    "guard = multi_str_split[::2]"
   ]
  },
  {
   "cell_type": "code",
   "execution_count": 8,
   "id": "8ca05142-31a3-46ea-8517-4d1840a58f6d",
   "metadata": {},
   "outputs": [
    {
     "data": {
      "text/plain": [
       "['Guard: What? Ridden on a horse?',\n",
       " \"Guard: You're using coconuts!\",\n",
       " \"Guard: You've got ... coconut[s] and you're bangin' 'em together.\"]"
      ]
     },
     "execution_count": 8,
     "metadata": {},
     "output_type": "execute_result"
    }
   ],
   "source": [
    "guard"
   ]
  },
  {
   "cell_type": "markdown",
   "id": "fbfc71cb-0698-40c9-9f8c-c7a037fd331f",
   "metadata": {},
   "source": [
    "##### * replace()"
   ]
  },
  {
   "cell_type": "code",
   "execution_count": 60,
   "id": "65370c8b-5afc-43fb-9b89-d40e8672e24c",
   "metadata": {},
   "outputs": [
    {
     "data": {
      "text/plain": [
       "\"What? Ridden on a horse?\\nKing Arthur: Yes!\\nYou're using coconuts!\\nKing Arthur: What?\\nYou've got ... coconut[s] and you're bangin' 'em together.\\n\""
      ]
     },
     "execution_count": 60,
     "metadata": {},
     "output_type": "execute_result"
    }
   ],
   "source": [
    "# \"Guard: \" 부분 없애기\n",
    "multi_str.replace(\"Guard: \", \"\")"
   ]
  },
  {
   "cell_type": "code",
   "execution_count": 15,
   "id": "1cc57293-6b5e-41b1-ad02-0cf4195e04e7",
   "metadata": {},
   "outputs": [
    {
     "data": {
      "text/plain": [
       "['What? Ridden on a horse?',\n",
       " 'King Arthur: Yes!',\n",
       " \"You're using coconuts!\",\n",
       " 'King Arthur: What?',\n",
       " \"You've got ... coconut[s] and you're bangin' 'em together.\"]"
      ]
     },
     "execution_count": 15,
     "metadata": {},
     "output_type": "execute_result"
    }
   ],
   "source": [
    "multi_str.replace(\"Guard: \", \"\").splitlines()"
   ]
  },
  {
   "cell_type": "code",
   "execution_count": 16,
   "id": "c57b1146-de84-45f9-a66a-ee6bd7ed9f14",
   "metadata": {},
   "outputs": [
    {
     "data": {
      "text/plain": [
       "['What? Ridden on a horse?',\n",
       " \"You're using coconuts!\",\n",
       " \"You've got ... coconut[s] and you're bangin' 'em together.\"]"
      ]
     },
     "execution_count": 16,
     "metadata": {},
     "output_type": "execute_result"
    }
   ],
   "source": [
    "multi_str.replace(\"Guard: \", \"\").splitlines()[::2]"
   ]
  },
  {
   "cell_type": "markdown",
   "id": "4af62fd6-0250-4fea-bc6e-2501dac8a6f4",
   "metadata": {},
   "source": [
    "## 09-3. 문자열 포매팅"
   ]
  },
  {
   "cell_type": "markdown",
   "id": "c0978f50-fa69-4694-901d-ab814b2a6451",
   "metadata": {},
   "source": [
    "### - (p.193) 문자열 포매팅"
   ]
  },
  {
   "cell_type": "markdown",
   "id": "58f9e714-281a-4758-9f0e-902ed37fedc4",
   "metadata": {},
   "source": [
    "#### *  place holder : { }"
   ]
  },
  {
   "cell_type": "code",
   "execution_count": 17,
   "id": "e61e451e-0c21-4ed6-b5a2-b60572145eb7",
   "metadata": {},
   "outputs": [],
   "source": [
    "var = 'flesh wound'\n",
    "s = \"It's just a {}!\""
   ]
  },
  {
   "cell_type": "code",
   "execution_count": 18,
   "id": "b0e10ce1-db0f-4466-bdb2-73a1239d5a71",
   "metadata": {},
   "outputs": [
    {
     "data": {
      "text/plain": [
       "\"It's just a flesh wound!\""
      ]
     },
     "execution_count": 18,
     "metadata": {},
     "output_type": "execute_result"
    }
   ],
   "source": [
    "s.format(var)"
   ]
  },
  {
   "cell_type": "code",
   "execution_count": 19,
   "id": "a7aca97e-a5fd-4977-8732-3466dbcd6b26",
   "metadata": {},
   "outputs": [
    {
     "data": {
      "text/plain": [
       "\"It's just a scratch!\""
      ]
     },
     "execution_count": 19,
     "metadata": {},
     "output_type": "execute_result"
    }
   ],
   "source": [
    "s.format('scratch')"
   ]
  },
  {
   "cell_type": "markdown",
   "id": "ad2c1568-5b32-409c-9e95-61eb365b4126",
   "metadata": {},
   "source": [
    "#### * 여러 단어 전달 : 인덱스 {0}, {1}"
   ]
  },
  {
   "cell_type": "code",
   "execution_count": 25,
   "id": "7025a7e8-5624-44f5-a270-c715bcd46cb5",
   "metadata": {},
   "outputs": [],
   "source": [
    "s = \"\"\"Black Knight: 'Tis but a {0}.\n",
    "King Arthur: A {0}? Your arm's off!\n",
    "Let's go to a {1}.\n",
    "\"\"\""
   ]
  },
  {
   "cell_type": "code",
   "execution_count": 26,
   "id": "808761ec-92e7-4155-b6cc-380e11e136f6",
   "metadata": {},
   "outputs": [
    {
     "data": {
      "text/plain": [
       "\"Black Knight: 'Tis but a scratch.\\nKing Arthur: A scratch? Your arm's off!\\nLet's go to a hospital.\\n\""
      ]
     },
     "execution_count": 26,
     "metadata": {},
     "output_type": "execute_result"
    }
   ],
   "source": [
    "s.format('scratch', 'hospital')"
   ]
  },
  {
   "cell_type": "code",
   "execution_count": 37,
   "id": "2b1b8a2a-c6ad-4539-870e-bdc4e162ed65",
   "metadata": {},
   "outputs": [],
   "source": [
    "str1 = \"{0} is Ei. {1} is Bee. {2} is Sea.\""
   ]
  },
  {
   "cell_type": "code",
   "execution_count": 38,
   "id": "cfd7be13-e80f-4422-93bf-856246b008ec",
   "metadata": {},
   "outputs": [
    {
     "data": {
      "text/plain": [
       "'A is Ei. B is Bee. C is Sea.'"
      ]
     },
     "execution_count": 38,
     "metadata": {},
     "output_type": "execute_result"
    }
   ],
   "source": [
    "str1.format('A', 'B', 'C')"
   ]
  },
  {
   "cell_type": "markdown",
   "id": "febe9c3b-4e84-46b0-996f-5adb3c7769dc",
   "metadata": {},
   "source": [
    "#### * 여러 단어 전달 : 변수 {var1}, {var2}"
   ]
  },
  {
   "cell_type": "code",
   "execution_count": 39,
   "id": "099e0e65-853f-4f2f-8b0e-30feb89d1d33",
   "metadata": {},
   "outputs": [],
   "source": [
    "s = 'Hayden Planetarium Coordinates: {lat}, {lon}'"
   ]
  },
  {
   "cell_type": "code",
   "execution_count": 40,
   "id": "59222d0b-45de-4270-9e41-8f1a3eeeaa11",
   "metadata": {},
   "outputs": [
    {
     "data": {
      "text/plain": [
       "'Hayden Planetarium Coordinates: 40.7815 N, 73.9733 W'"
      ]
     },
     "execution_count": 40,
     "metadata": {},
     "output_type": "execute_result"
    }
   ],
   "source": [
    "s.format(lat = '40.7815 N', lon = '73.9733 W')"
   ]
  },
  {
   "cell_type": "markdown",
   "id": "9468e966-d4de-4570-8094-94e63ae656ba",
   "metadata": {},
   "source": [
    "### - (p.194) 숫자 데이터 포맷팅"
   ]
  },
  {
   "cell_type": "markdown",
   "id": "60a3aa7c-863a-49ef-adab-33a671c60185",
   "metadata": {},
   "source": [
    "#### * place holder : { }"
   ]
  },
  {
   "cell_type": "code",
   "execution_count": 47,
   "id": "cdb0a332-fe19-4be0-892b-e30c653c47c7",
   "metadata": {},
   "outputs": [
    {
     "data": {
      "text/plain": [
       "'Some digits of pi: 3.1415927'"
      ]
     },
     "execution_count": 47,
     "metadata": {},
     "output_type": "execute_result"
    }
   ],
   "source": [
    "'Some digits of pi: {}'.format(3.1415927)"
   ]
  },
  {
   "cell_type": "markdown",
   "id": "e4b4009d-0140-4230-96ed-b9476cd10977",
   "metadata": {},
   "source": [
    "#### * 숫자에 콤마 넣기 : { :, }"
   ]
  },
  {
   "cell_type": "code",
   "execution_count": 45,
   "id": "9150824c-eba7-452c-bb06-bacd48154cd0",
   "metadata": {},
   "outputs": [
    {
     "data": {
      "text/plain": [
       "'In 2005, Lu Chao of China recited 67890 digits of pi'"
      ]
     },
     "execution_count": 45,
     "metadata": {},
     "output_type": "execute_result"
    }
   ],
   "source": [
    "\"In 2005, Lu Chao of China recited {} digits of pi\".format(67890)"
   ]
  },
  {
   "cell_type": "code",
   "execution_count": 46,
   "id": "3617a34f-56df-4ae4-a483-bb30463391d5",
   "metadata": {},
   "outputs": [
    {
     "data": {
      "text/plain": [
       "'In 2005, Lu Chao of China recited 67,890 digits of pi'"
      ]
     },
     "execution_count": 46,
     "metadata": {},
     "output_type": "execute_result"
    }
   ],
   "source": [
    "\"In 2005, Lu Chao of China recited {:,} digits of pi\".format(67890)"
   ]
  },
  {
   "cell_type": "markdown",
   "id": "4f161040-b466-43b1-abe5-13c5ed5c82f6",
   "metadata": {},
   "source": [
    "#### * 소수 표현 : {0:.4} or {0:.4%}"
   ]
  },
  {
   "cell_type": "code",
   "execution_count": 53,
   "id": "b91cae89-290f-4fdb-ace5-4d2b59f96679",
   "metadata": {},
   "outputs": [
    {
     "data": {
      "text/plain": [
       "'I remember 0.00010310796877301516 or 0.0001031 or 0.00010311 or 0.0103% of what Lu Chao recited'"
      ]
     },
     "execution_count": 53,
     "metadata": {},
     "output_type": "execute_result"
    }
   ],
   "source": [
    "\"I remember {0} or {0:.4} or {0:.5} or {0:.4%} of what Lu Chao recited\".format(7/67890)"
   ]
  },
  {
   "cell_type": "markdown",
   "id": "cdb0edff-f3a3-4aa5-8b04-bf67199c510c",
   "metadata": {},
   "source": [
    "#### * 5자리 숫자 + 빈칸은 0으로 채우기"
   ]
  },
  {
   "cell_type": "code",
   "execution_count": 56,
   "id": "781bc367-c419-443d-8f82-d26e6f56ce1a",
   "metadata": {},
   "outputs": [
    {
     "data": {
      "text/plain": [
       "'My ID number is 00042'"
      ]
     },
     "execution_count": 56,
     "metadata": {},
     "output_type": "execute_result"
    }
   ],
   "source": [
    "\"My ID number is {0:05d}\".format(42)"
   ]
  },
  {
   "cell_type": "markdown",
   "id": "d2227e3e-061e-4555-b4cf-637e91bc26b8",
   "metadata": {},
   "source": [
    "### - (p.195) % 연산자로 포매팅"
   ]
  },
  {
   "cell_type": "markdown",
   "id": "3548ecad-82b4-4747-abfa-e650c2556064",
   "metadata": {},
   "source": [
    "#### * 10진수 삽입 : %d"
   ]
  },
  {
   "cell_type": "code",
   "execution_count": 59,
   "id": "d4d9b0ac-343e-49fe-bae9-9a3bdcd620f2",
   "metadata": {},
   "outputs": [
    {
     "data": {
      "text/plain": [
       "'I only know 7 digits of pi'"
      ]
     },
     "execution_count": 59,
     "metadata": {},
     "output_type": "execute_result"
    }
   ],
   "source": [
    "s = 'I only know %d digits of pi' % 7\n",
    "s"
   ]
  },
  {
   "cell_type": "markdown",
   "id": "dd11a39b-0a98-4037-a980-7854011ba613",
   "metadata": {},
   "source": [
    "#### * 문자열 삽입 : %(var)s"
   ]
  },
  {
   "cell_type": "code",
   "execution_count": 64,
   "id": "4d8a64d1-9e5c-47d4-b51b-03e817553059",
   "metadata": {},
   "outputs": [
    {
     "data": {
      "text/plain": [
       "'Some digits of e: 2.718'"
      ]
     },
     "execution_count": 64,
     "metadata": {},
     "output_type": "execute_result"
    }
   ],
   "source": [
    "'Some digits of %(cont)s: %(value)s' % {'cont' : 'e', 'value' : 2.718}"
   ]
  },
  {
   "cell_type": "markdown",
   "id": "3bb438c0-e66f-4a58-be31-74298ce45c2d",
   "metadata": {},
   "source": [
    "#### * 숫자 삽입 : %(var).1d or %(var).2f, ..."
   ]
  },
  {
   "cell_type": "code",
   "execution_count": 67,
   "id": "54ba5cda-edd0-4330-9e3e-215d5b521006",
   "metadata": {},
   "outputs": [
    {
     "data": {
      "text/plain": [
       "'Some digits of e: 2'"
      ]
     },
     "execution_count": 67,
     "metadata": {},
     "output_type": "execute_result"
    }
   ],
   "source": [
    "'Some digits of %(cont)s: %(value).1d' % {'cont' : 'e', 'value' : 2.718}"
   ]
  },
  {
   "cell_type": "code",
   "execution_count": 68,
   "id": "4a09e414-be63-4da6-9831-ff167c39bf4c",
   "metadata": {},
   "outputs": [
    {
     "data": {
      "text/plain": [
       "'Some digits of e: 2.7'"
      ]
     },
     "execution_count": 68,
     "metadata": {},
     "output_type": "execute_result"
    }
   ],
   "source": [
    "'Some digits of %(cont)s: %(value).1f' % {'cont' : 'e', 'value' : 2.718}"
   ]
  },
  {
   "cell_type": "code",
   "execution_count": 62,
   "id": "95de0349-4efe-4bbf-9340-c8d42e2fe96c",
   "metadata": {},
   "outputs": [
    {
     "data": {
      "text/plain": [
       "'Some digits of e: 2.72'"
      ]
     },
     "execution_count": 62,
     "metadata": {},
     "output_type": "execute_result"
    }
   ],
   "source": [
    "'Some digits of %(cont)s: %(value).2f' % {'cont' : 'e', 'value' : 2.718}"
   ]
  },
  {
   "cell_type": "code",
   "execution_count": 66,
   "id": "bb1f2105-df41-4a5e-b5ae-2ab72ff750c1",
   "metadata": {},
   "outputs": [
    {
     "data": {
      "text/plain": [
       "'Some digits of e: 2.7180'"
      ]
     },
     "execution_count": 66,
     "metadata": {},
     "output_type": "execute_result"
    }
   ],
   "source": [
    "'Some digits of %(cont)s: %(value).4f' % {'cont' : 'e', 'value' : 2.718}"
   ]
  },
  {
   "cell_type": "markdown",
   "id": "4cd5a667-ff47-4b0d-bc6d-0334e771e36f",
   "metadata": {},
   "source": [
    "### - (p.196) f-strings 포매팅"
   ]
  },
  {
   "cell_type": "code",
   "execution_count": 71,
   "id": "3674ea24-9650-4e5d-b785-27d9f3e256d3",
   "metadata": {},
   "outputs": [
    {
     "data": {
      "text/plain": [
       "\"It's just a flesh wound!\""
      ]
     },
     "execution_count": 71,
     "metadata": {},
     "output_type": "execute_result"
    }
   ],
   "source": [
    "var = 'flesh wound'\n",
    "s = f\"It's just a {var}!\"\n",
    "s"
   ]
  },
  {
   "cell_type": "code",
   "execution_count": 72,
   "id": "67c33e7f-566c-4628-b471-fa7f7f87830c",
   "metadata": {},
   "outputs": [
    {
     "data": {
      "text/plain": [
       "'Hayden Planetarium coordinats: 40.7815 N, 73.9733 W'"
      ]
     },
     "execution_count": 72,
     "metadata": {},
     "output_type": "execute_result"
    }
   ],
   "source": [
    "lat = '40.7815 N'\n",
    "lon = '73.9733 W'\n",
    "s = f\"Hayden Planetarium coordinats: {lat}, {lon}\"\n",
    "s"
   ]
  },
  {
   "cell_type": "markdown",
   "id": "d3934c92-984f-410a-a3fc-a7a8ef106a14",
   "metadata": {},
   "source": [
    "## 09-4. 정규식 문자열 처리"
   ]
  },
  {
   "cell_type": "markdown",
   "id": "883ba415-0579-489a-96e6-4197afa1497c",
   "metadata": {},
   "source": [
    "### - (p.197) 정규식 표현 - 문법, 특수 문자"
   ]
  },
  {
   "cell_type": "markdown",
   "id": "2702b760-ff00-4665-8741-22edc12b89ab",
   "metadata": {},
   "source": [
    "#### * 실습: https://regex101.com"
   ]
  },
  {
   "cell_type": "markdown",
   "id": "7982c08c-94aa-4aad-bf41-2fdae4121774",
   "metadata": {},
   "source": [
    "### - (p.198) 정규식 표현 - 메서드"
   ]
  },
  {
   "cell_type": "markdown",
   "id": "15df7d67-4113-45be-8d1a-6394382a133d",
   "metadata": {},
   "source": [
    "#### * search, match, fullmatch"
   ]
  },
  {
   "cell_type": "markdown",
   "id": "9ce24999-24ae-4d5f-83b4-6bfb3746a0b2",
   "metadata": {},
   "source": [
    "#### * split, findall, finditer, sub"
   ]
  },
  {
   "cell_type": "markdown",
   "id": "806fc2f8-bfee-4dfd-8b75-092c1a07ad7e",
   "metadata": {},
   "source": [
    "### - (p.199) 전화번호 패턴 찾기"
   ]
  },
  {
   "cell_type": "code",
   "execution_count": 87,
   "id": "558e8db4-5a1a-40c5-95f0-42bb0c51f993",
   "metadata": {},
   "outputs": [],
   "source": [
    "import re"
   ]
  },
  {
   "cell_type": "code",
   "execution_count": 88,
   "id": "f2758458-c5b2-4afe-939f-b18a319e6716",
   "metadata": {},
   "outputs": [],
   "source": [
    "tel_num = '1234567890'"
   ]
  },
  {
   "cell_type": "markdown",
   "id": "eca7654d-fee2-4061-9ef6-4b89dcc1ec74",
   "metadata": {},
   "source": [
    "#### * 길이가 10인 숫자 확인"
   ]
  },
  {
   "cell_type": "code",
   "execution_count": 90,
   "id": "58cc5230-2568-4e3b-a841-95eb1b7c7494",
   "metadata": {},
   "outputs": [
    {
     "data": {
      "text/plain": [
       "<re.Match object; span=(0, 10), match='1234567890'>"
      ]
     },
     "execution_count": 90,
     "metadata": {},
     "output_type": "execute_result"
    }
   ],
   "source": [
    "m = re.match(pattern = '\\d\\d\\d\\d\\d\\d\\d\\d\\d\\d', string = tel_num)\n",
    "m"
   ]
  },
  {
   "cell_type": "code",
   "execution_count": 91,
   "id": "81066c7b-2cba-4c9e-bc74-708279437338",
   "metadata": {},
   "outputs": [
    {
     "data": {
      "text/plain": [
       "re.Match"
      ]
     },
     "execution_count": 91,
     "metadata": {},
     "output_type": "execute_result"
    }
   ],
   "source": [
    "type(m)"
   ]
  },
  {
   "cell_type": "markdown",
   "id": "09dbe10f-4e64-4660-9cf7-38349b49fc34",
   "metadata": {},
   "source": [
    "#### * bool 메서드에 전달"
   ]
  },
  {
   "cell_type": "code",
   "execution_count": 92,
   "id": "c84b4a0c-6c93-4202-82cf-77c34f065b33",
   "metadata": {},
   "outputs": [
    {
     "data": {
      "text/plain": [
       "True"
      ]
     },
     "execution_count": 92,
     "metadata": {},
     "output_type": "execute_result"
    }
   ],
   "source": [
    "bool(m)"
   ]
  },
  {
   "cell_type": "code",
   "execution_count": 93,
   "id": "6ec8b71e-7299-4dec-8ae5-af721f27dda3",
   "metadata": {},
   "outputs": [
    {
     "name": "stdout",
     "output_type": "stream",
     "text": [
      "match\n"
     ]
    }
   ],
   "source": [
    "if m:\n",
    "    print('match')\n",
    "else:\n",
    "    print('no match')"
   ]
  },
  {
   "cell_type": "markdown",
   "id": "02d77107-e21d-4028-8942-eb21d8d68a5f",
   "metadata": {},
   "source": [
    "#### * start(), end(), span(), group()"
   ]
  },
  {
   "cell_type": "code",
   "execution_count": 94,
   "id": "8929c87a-bc99-4077-85a0-0bf4d9e4c34e",
   "metadata": {},
   "outputs": [
    {
     "data": {
      "text/plain": [
       "0"
      ]
     },
     "execution_count": 94,
     "metadata": {},
     "output_type": "execute_result"
    }
   ],
   "source": [
    "m.start()"
   ]
  },
  {
   "cell_type": "code",
   "execution_count": 98,
   "id": "744a94df-ba3d-4808-843c-5d94570c1dd6",
   "metadata": {},
   "outputs": [
    {
     "data": {
      "text/plain": [
       "10"
      ]
     },
     "execution_count": 98,
     "metadata": {},
     "output_type": "execute_result"
    }
   ],
   "source": [
    "m.end()"
   ]
  },
  {
   "cell_type": "code",
   "execution_count": 99,
   "id": "8e844922-f137-4797-9853-49f5ff325252",
   "metadata": {},
   "outputs": [
    {
     "data": {
      "text/plain": [
       "(0, 10)"
      ]
     },
     "execution_count": 99,
     "metadata": {},
     "output_type": "execute_result"
    }
   ],
   "source": [
    "m.span()"
   ]
  },
  {
   "cell_type": "code",
   "execution_count": 100,
   "id": "cb1c1824-663b-4b53-8f0e-46fd3c5bf56c",
   "metadata": {},
   "outputs": [
    {
     "data": {
      "text/plain": [
       "'1234567890'"
      ]
     },
     "execution_count": 100,
     "metadata": {},
     "output_type": "execute_result"
    }
   ],
   "source": [
    "m.group()"
   ]
  },
  {
   "cell_type": "markdown",
   "id": "fd6041fa-0350-4610-8806-0fec4f3177e3",
   "metadata": {},
   "source": [
    "#### * 전화번호에 공백이 있는 경우"
   ]
  },
  {
   "cell_type": "code",
   "execution_count": 104,
   "id": "e9d48b8c-eabe-4b79-a5a3-d1e68be54ca3",
   "metadata": {},
   "outputs": [],
   "source": [
    "tel_num_spaces = '123 456 7890'"
   ]
  },
  {
   "cell_type": "code",
   "execution_count": 105,
   "id": "5e25d059-eb49-4a09-b130-afbc11fa4260",
   "metadata": {},
   "outputs": [],
   "source": [
    "m = re.match(pattern = '\\d{10}', string = tel_num_spaces)\n",
    "m"
   ]
  },
  {
   "cell_type": "code",
   "execution_count": 106,
   "id": "99cc1ea0-7fec-4598-96ab-114844f6b225",
   "metadata": {},
   "outputs": [
    {
     "name": "stdout",
     "output_type": "stream",
     "text": [
      "no match\n"
     ]
    }
   ],
   "source": [
    "if m:\n",
    "    print('match')\n",
    "else:\n",
    "    print('no match')"
   ]
  },
  {
   "cell_type": "code",
   "execution_count": 107,
   "id": "f2c8b59e-840b-4d59-a4d3-3b38d222f8d7",
   "metadata": {},
   "outputs": [],
   "source": [
    "p = '\\d{3}\\s?\\d{3}\\s?\\d{4}'"
   ]
  },
  {
   "cell_type": "code",
   "execution_count": 108,
   "id": "fe3d2441-9f28-43a8-889a-86a0e1a851a5",
   "metadata": {},
   "outputs": [
    {
     "data": {
      "text/plain": [
       "<re.Match object; span=(0, 12), match='123 456 7890'>"
      ]
     },
     "execution_count": 108,
     "metadata": {},
     "output_type": "execute_result"
    }
   ],
   "source": [
    "m = re.match(pattern = p, string = tel_num_spaces)\n",
    "m"
   ]
  },
  {
   "cell_type": "markdown",
   "id": "572c0bc2-cd0c-4be3-8b8f-eae4a8f7c46b",
   "metadata": {},
   "source": [
    "#### * 지역코드는 소괄호 & '-' 포함"
   ]
  },
  {
   "cell_type": "code",
   "execution_count": 109,
   "id": "bdf747a3-da0b-48ee-9424-f99994bcd73a",
   "metadata": {},
   "outputs": [],
   "source": [
    "tel_num_space_paren_dash = '(123) 456-7890'"
   ]
  },
  {
   "cell_type": "code",
   "execution_count": 110,
   "id": "4acbcd91-800d-47a8-bee9-f7abb75a4ad2",
   "metadata": {},
   "outputs": [],
   "source": [
    "p = '\\(?\\d{3}\\)?\\s?\\d{3}\\s?-?\\d{4}'"
   ]
  },
  {
   "cell_type": "code",
   "execution_count": 111,
   "id": "c8819eba-9a73-423a-bb44-0574ddaef0b2",
   "metadata": {},
   "outputs": [
    {
     "data": {
      "text/plain": [
       "<re.Match object; span=(0, 14), match='(123) 456-7890'>"
      ]
     },
     "execution_count": 111,
     "metadata": {},
     "output_type": "execute_result"
    }
   ],
   "source": [
    "m = re.match(pattern = p, string = tel_num_space_paren_dash)\n",
    "m"
   ]
  },
  {
   "cell_type": "markdown",
   "id": "fb2d021d-14df-4edf-a9b3-cf834b8e4153",
   "metadata": {},
   "source": [
    "#### * 국가코드까지"
   ]
  },
  {
   "cell_type": "code",
   "execution_count": 112,
   "id": "546f0b1f-ece5-42cd-83d5-fd5713a1e391",
   "metadata": {},
   "outputs": [],
   "source": [
    "cnty_tel_num = '+1 (123) 456-7890'"
   ]
  },
  {
   "cell_type": "code",
   "execution_count": 113,
   "id": "134fe322-33a2-4199-9c43-d3c5be6c814d",
   "metadata": {},
   "outputs": [],
   "source": [
    "p = '\\+?1\\s?\\(?\\d{3}\\)?\\s?\\d{3}\\s?-?\\d{4}'"
   ]
  },
  {
   "cell_type": "code",
   "execution_count": 114,
   "id": "1edc976a-1391-4a59-8bc0-ded2fda7838a",
   "metadata": {},
   "outputs": [
    {
     "data": {
      "text/plain": [
       "<re.Match object; span=(0, 17), match='+1 (123) 456-7890'>"
      ]
     },
     "execution_count": 114,
     "metadata": {},
     "output_type": "execute_result"
    }
   ],
   "source": [
    "m = re.match(pattern = p, string = cnty_tel_num)\n",
    "m"
   ]
  },
  {
   "cell_type": "markdown",
   "id": "2b5b6169-3e3e-43f8-b19c-ece81a0cdf78",
   "metadata": {},
   "source": [
    "### - (p.203) compile 메서드로 정규식 메서드 사용"
   ]
  },
  {
   "cell_type": "code",
   "execution_count": 115,
   "id": "2cb8ba12-6053-4814-93cb-bb3a4b51db39",
   "metadata": {},
   "outputs": [],
   "source": [
    "p = re.compile('\\d{10}')"
   ]
  },
  {
   "cell_type": "code",
   "execution_count": 116,
   "id": "5e6a420a-9f91-478d-b383-f37382a679f2",
   "metadata": {},
   "outputs": [],
   "source": [
    "s = '1234567890'"
   ]
  },
  {
   "cell_type": "code",
   "execution_count": 117,
   "id": "8215f690-5810-4da2-8236-bda391ed65b7",
   "metadata": {},
   "outputs": [
    {
     "data": {
      "text/plain": [
       "<re.Match object; span=(0, 10), match='1234567890'>"
      ]
     },
     "execution_count": 117,
     "metadata": {},
     "output_type": "execute_result"
    }
   ],
   "source": [
    "m = p.match(s)\n",
    "m"
   ]
  },
  {
   "cell_type": "markdown",
   "id": "97ea9ebd-4a22-4b41-896f-ad44fd450001",
   "metadata": {},
   "source": [
    "## - End."
   ]
  },
  {
   "cell_type": "code",
   "execution_count": null,
   "id": "e0cac739-674e-41a8-817c-a024f4691201",
   "metadata": {},
   "outputs": [],
   "source": []
  }
 ],
 "metadata": {
  "kernelspec": {
   "display_name": "Python 3 (ipykernel)",
   "language": "python",
   "name": "python3"
  },
  "language_info": {
   "codemirror_mode": {
    "name": "ipython",
    "version": 3
   },
   "file_extension": ".py",
   "mimetype": "text/x-python",
   "name": "python",
   "nbconvert_exporter": "python",
   "pygments_lexer": "ipython3",
   "version": "3.9.13"
  }
 },
 "nbformat": 4,
 "nbformat_minor": 5
}
