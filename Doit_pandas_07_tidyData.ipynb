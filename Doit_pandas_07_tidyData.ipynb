{
 "cells": [
  {
   "cell_type": "markdown",
   "id": "1588485c-3748-4e63-8955-895a99478783",
   "metadata": {},
   "source": [
    "# ch-07. 깔끔한 데이터\n",
    "## 07-1. 열과 피벗"
   ]
  },
  {
   "cell_type": "markdown",
   "id": "aab10449-0165-40a6-9231-38e68ab1f469",
   "metadata": {},
   "source": [
    "### - (p.153) 넓은 데이터"
   ]
  },
  {
   "cell_type": "code",
   "execution_count": null,
   "id": "99b9083f-f861-4d09-8e92-40a2aea59fcf",
   "metadata": {},
   "outputs": [],
   "source": []
  }
 ],
 "metadata": {
  "kernelspec": {
   "display_name": "Python 3 (ipykernel)",
   "language": "python",
   "name": "python3"
  },
  "language_info": {
   "codemirror_mode": {
    "name": "ipython",
    "version": 3
   },
   "file_extension": ".py",
   "mimetype": "text/x-python",
   "name": "python",
   "nbconvert_exporter": "python",
   "pygments_lexer": "ipython3",
   "version": "3.9.13"
  }
 },
 "nbformat": 4,
 "nbformat_minor": 5
}
