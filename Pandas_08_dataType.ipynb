{
 "cells": [
  {
   "cell_type": "markdown",
   "id": "b7192e4e-ba32-4711-87e5-bdbb645e419b",
   "metadata": {},
   "source": [
    "# Ch-08. 판다스 자료형\n",
    "## 08-1. 자료형 다루기"
   ]
  },
  {
   "cell_type": "code",
   "execution_count": 2,
   "id": "6214abdf-7c8d-4c93-9ab4-39a3b3288b43",
   "metadata": {},
   "outputs": [],
   "source": [
    "import pandas as pd\n",
    "import numpy as np\n",
    "import seaborn as sns\n",
    "import os"
   ]
  },
  {
   "cell_type": "code",
   "execution_count": 3,
   "id": "30e32793-6a37-4e06-aac8-7f456c39de41",
   "metadata": {},
   "outputs": [
    {
     "data": {
      "text/plain": [
       "'C:\\\\Users\\\\James\\\\Documents\\\\GitHub\\\\doit_pandas\\\\data'"
      ]
     },
     "execution_count": 3,
     "metadata": {},
     "output_type": "execute_result"
    }
   ],
   "source": [
    "path = os.getcwd() + '\\data'\n",
    "os.chdir(path)\n",
    "os.getcwd()"
   ]
  },
  {
   "cell_type": "markdown",
   "id": "4dc249f1-469f-42aa-9591-916ed4f148e0",
   "metadata": {},
   "source": [
    "### - (p.175) 자료형 변환: astype()"
   ]
  },
  {
   "cell_type": "code",
   "execution_count": 5,
   "id": "3ce3e9c4-d5ac-4284-82ae-8f8debccda07",
   "metadata": {},
   "outputs": [],
   "source": [
    "tips_raw = sns.load_dataset('tips')"
   ]
  },
  {
   "cell_type": "code",
   "execution_count": 32,
   "id": "0cd9402a-c976-43b9-b517-d5d16da807bf",
   "metadata": {},
   "outputs": [
    {
     "data": {
      "text/html": [
       "<div>\n",
       "<style scoped>\n",
       "    .dataframe tbody tr th:only-of-type {\n",
       "        vertical-align: middle;\n",
       "    }\n",
       "\n",
       "    .dataframe tbody tr th {\n",
       "        vertical-align: top;\n",
       "    }\n",
       "\n",
       "    .dataframe thead th {\n",
       "        text-align: right;\n",
       "    }\n",
       "</style>\n",
       "<table border=\"1\" class=\"dataframe\">\n",
       "  <thead>\n",
       "    <tr style=\"text-align: right;\">\n",
       "      <th></th>\n",
       "      <th>total_bill</th>\n",
       "      <th>tip</th>\n",
       "      <th>sex</th>\n",
       "      <th>smoker</th>\n",
       "      <th>day</th>\n",
       "      <th>time</th>\n",
       "      <th>size</th>\n",
       "    </tr>\n",
       "  </thead>\n",
       "  <tbody>\n",
       "    <tr>\n",
       "      <th>0</th>\n",
       "      <td>16.99</td>\n",
       "      <td>1.01</td>\n",
       "      <td>Female</td>\n",
       "      <td>No</td>\n",
       "      <td>Sun</td>\n",
       "      <td>Dinner</td>\n",
       "      <td>2</td>\n",
       "    </tr>\n",
       "    <tr>\n",
       "      <th>1</th>\n",
       "      <td>10.34</td>\n",
       "      <td>1.66</td>\n",
       "      <td>Male</td>\n",
       "      <td>No</td>\n",
       "      <td>Sun</td>\n",
       "      <td>Dinner</td>\n",
       "      <td>3</td>\n",
       "    </tr>\n",
       "    <tr>\n",
       "      <th>2</th>\n",
       "      <td>21.01</td>\n",
       "      <td>3.50</td>\n",
       "      <td>Male</td>\n",
       "      <td>No</td>\n",
       "      <td>Sun</td>\n",
       "      <td>Dinner</td>\n",
       "      <td>3</td>\n",
       "    </tr>\n",
       "    <tr>\n",
       "      <th>3</th>\n",
       "      <td>23.68</td>\n",
       "      <td>3.31</td>\n",
       "      <td>Male</td>\n",
       "      <td>No</td>\n",
       "      <td>Sun</td>\n",
       "      <td>Dinner</td>\n",
       "      <td>2</td>\n",
       "    </tr>\n",
       "    <tr>\n",
       "      <th>4</th>\n",
       "      <td>24.59</td>\n",
       "      <td>3.61</td>\n",
       "      <td>Female</td>\n",
       "      <td>No</td>\n",
       "      <td>Sun</td>\n",
       "      <td>Dinner</td>\n",
       "      <td>4</td>\n",
       "    </tr>\n",
       "  </tbody>\n",
       "</table>\n",
       "</div>"
      ],
      "text/plain": [
       "   total_bill   tip     sex smoker  day    time  size\n",
       "0       16.99  1.01  Female     No  Sun  Dinner     2\n",
       "1       10.34  1.66    Male     No  Sun  Dinner     3\n",
       "2       21.01  3.50    Male     No  Sun  Dinner     3\n",
       "3       23.68  3.31    Male     No  Sun  Dinner     2\n",
       "4       24.59  3.61  Female     No  Sun  Dinner     4"
      ]
     },
     "execution_count": 32,
     "metadata": {},
     "output_type": "execute_result"
    }
   ],
   "source": [
    "tips = tips_raw.copy()\n",
    "tips.head()"
   ]
  },
  {
   "cell_type": "code",
   "execution_count": 33,
   "id": "3752f245-7efa-4915-99d1-78997def04bc",
   "metadata": {},
   "outputs": [
    {
     "data": {
      "text/plain": [
       "(244, 7)"
      ]
     },
     "execution_count": 33,
     "metadata": {},
     "output_type": "execute_result"
    }
   ],
   "source": [
    "tips.shape"
   ]
  },
  {
   "cell_type": "code",
   "execution_count": 34,
   "id": "62e63ec2-a188-42f6-a883-b1473f5d89e6",
   "metadata": {},
   "outputs": [
    {
     "name": "stdout",
     "output_type": "stream",
     "text": [
      "<class 'pandas.core.frame.DataFrame'>\n",
      "RangeIndex: 244 entries, 0 to 243\n",
      "Data columns (total 7 columns):\n",
      " #   Column      Non-Null Count  Dtype   \n",
      "---  ------      --------------  -----   \n",
      " 0   total_bill  244 non-null    float64 \n",
      " 1   tip         244 non-null    float64 \n",
      " 2   sex         244 non-null    category\n",
      " 3   smoker      244 non-null    category\n",
      " 4   day         244 non-null    category\n",
      " 5   time        244 non-null    category\n",
      " 6   size        244 non-null    int64   \n",
      "dtypes: category(4), float64(2), int64(1)\n",
      "memory usage: 7.4 KB\n"
     ]
    }
   ],
   "source": [
    "tips.info()"
   ]
  },
  {
   "cell_type": "code",
   "execution_count": 35,
   "id": "1cd16578-7680-4216-93d1-b681dc9d532e",
   "metadata": {},
   "outputs": [
    {
     "name": "stdout",
     "output_type": "stream",
     "text": [
      "<class 'pandas.core.series.Series'>\n",
      "RangeIndex: 244 entries, 0 to 243\n",
      "Series name: sex\n",
      "Non-Null Count  Dtype   \n",
      "--------------  -----   \n",
      "244 non-null    category\n",
      "dtypes: category(1)\n",
      "memory usage: 496.0 bytes\n"
     ]
    }
   ],
   "source": [
    "tips['sex'].info()"
   ]
  },
  {
   "cell_type": "code",
   "execution_count": 39,
   "id": "be7803f6-4c91-406f-9a0a-e4da2494287f",
   "metadata": {},
   "outputs": [
    {
     "data": {
      "text/plain": [
       "total_bill     float64\n",
       "tip            float64\n",
       "sex           category\n",
       "smoker        category\n",
       "day           category\n",
       "time          category\n",
       "size             int64\n",
       "dtype: object"
      ]
     },
     "execution_count": 39,
     "metadata": {},
     "output_type": "execute_result"
    }
   ],
   "source": [
    "# dtype은 저장된 데이터값 자체의 자료형\n",
    "# (ex) int, str(object), category, etc... \n",
    "tips.dtypes"
   ]
  },
  {
   "cell_type": "code",
   "execution_count": 40,
   "id": "96c09eae-0e20-489a-befa-b7057d927fdd",
   "metadata": {},
   "outputs": [
    {
     "data": {
      "text/plain": [
       "CategoricalDtype(categories=['Male', 'Female'], ordered=False)"
      ]
     },
     "execution_count": 40,
     "metadata": {},
     "output_type": "execute_result"
    }
   ],
   "source": [
    "tips['sex'].dtypes"
   ]
  },
  {
   "cell_type": "code",
   "execution_count": 41,
   "id": "2034cede-b184-4e01-9827-bf22bb71b521",
   "metadata": {},
   "outputs": [
    {
     "data": {
      "text/plain": [
       "pandas.core.frame.DataFrame"
      ]
     },
     "execution_count": 41,
     "metadata": {},
     "output_type": "execute_result"
    }
   ],
   "source": [
    "# type()은 데이터가 저장된 그릇(형식)의 자료형 \n",
    "# (ex) DataFrame, Series, List, Dict, etc...\n",
    "type(tips)"
   ]
  },
  {
   "cell_type": "code",
   "execution_count": 42,
   "id": "5b5ee4d5-28ce-44c6-8400-be119bca3372",
   "metadata": {},
   "outputs": [
    {
     "data": {
      "text/plain": [
       "pandas.core.series.Series"
      ]
     },
     "execution_count": 42,
     "metadata": {},
     "output_type": "execute_result"
    }
   ],
   "source": [
    "type(tips['sex'])"
   ]
  },
  {
   "cell_type": "markdown",
   "id": "2cdb0d9c-56ed-4192-8efd-57642873e080",
   "metadata": {},
   "source": [
    "#### * to str(object)"
   ]
  },
  {
   "cell_type": "code",
   "execution_count": 43,
   "id": "dd33e34d-638b-4a48-8b50-bc8c38ef8ae6",
   "metadata": {},
   "outputs": [],
   "source": [
    "tips['sex_str'] = tips['sex'].astype(str)"
   ]
  },
  {
   "cell_type": "code",
   "execution_count": 44,
   "id": "e557941b-2322-48c5-aada-977dd6e21aae",
   "metadata": {},
   "outputs": [
    {
     "data": {
      "text/plain": [
       "total_bill     float64\n",
       "tip            float64\n",
       "sex           category\n",
       "smoker        category\n",
       "day           category\n",
       "time          category\n",
       "size             int64\n",
       "sex_str         object\n",
       "dtype: object"
      ]
     },
     "execution_count": 44,
     "metadata": {},
     "output_type": "execute_result"
    }
   ],
   "source": [
    "tips.dtypes"
   ]
  },
  {
   "cell_type": "code",
   "execution_count": 46,
   "id": "c0233643-6faa-4a20-81c3-48f88c6db160",
   "metadata": {},
   "outputs": [
    {
     "data": {
      "text/plain": [
       "dtype('O')"
      ]
     },
     "execution_count": 46,
     "metadata": {},
     "output_type": "execute_result"
    }
   ],
   "source": [
    "tips['sex_str'].dtypes"
   ]
  },
  {
   "cell_type": "markdown",
   "id": "44156ffa-e290-4762-a862-974b190ab9de",
   "metadata": {},
   "source": [
    "#### * to float"
   ]
  },
  {
   "cell_type": "code",
   "execution_count": 47,
   "id": "9d5dac27-02e5-4082-95d0-2c03878e4dfb",
   "metadata": {},
   "outputs": [],
   "source": [
    "tips['total_bill'] = tips['total_bill'].astype(str)"
   ]
  },
  {
   "cell_type": "code",
   "execution_count": 47,
   "id": "c66575f8-9147-42a1-9997-a27facf95e6a",
   "metadata": {},
   "outputs": [
    {
     "data": {
      "text/plain": [
       "total_bill      object\n",
       "tip            float64\n",
       "sex           category\n",
       "smoker        category\n",
       "day           category\n",
       "time          category\n",
       "size             int64\n",
       "sex_str         object\n",
       "dtype: object"
      ]
     },
     "execution_count": 47,
     "metadata": {},
     "output_type": "execute_result"
    }
   ],
   "source": [
    "tips.dtypes"
   ]
  },
  {
   "cell_type": "code",
   "execution_count": 50,
   "id": "6009808c-b296-4a84-8433-24a57ca9bb73",
   "metadata": {},
   "outputs": [],
   "source": [
    "tips['total_bill'] = tips['total_bill'].astype(float)"
   ]
  },
  {
   "cell_type": "code",
   "execution_count": 50,
   "id": "23ace32a-daa8-4e33-93d3-ab851d1ca591",
   "metadata": {},
   "outputs": [
    {
     "data": {
      "text/plain": [
       "total_bill     float64\n",
       "tip            float64\n",
       "sex           category\n",
       "smoker        category\n",
       "day           category\n",
       "time          category\n",
       "size             int64\n",
       "sex_str         object\n",
       "dtype: object"
      ]
     },
     "execution_count": 50,
     "metadata": {},
     "output_type": "execute_result"
    }
   ],
   "source": [
    "tips.dtypes"
   ]
  },
  {
   "cell_type": "markdown",
   "id": "fffe9be5-9c9b-46cf-ad69-2296c847c3c6",
   "metadata": {},
   "source": [
    "### - (p.177) 잘못 입력한 문자열 처리 : to_numeric()"
   ]
  },
  {
   "cell_type": "markdown",
   "id": "ccebb7d5-dc81-4728-b049-ffc03dd7eec8",
   "metadata": {},
   "source": [
    "#### (1) float 열에 문자 데이터 잘못 입력"
   ]
  },
  {
   "cell_type": "code",
   "execution_count": 54,
   "id": "c8070df8-85da-4764-9128-567ee9edfd9c",
   "metadata": {},
   "outputs": [],
   "source": [
    "tips_sub_miss = tips_raw.copy()"
   ]
  },
  {
   "cell_type": "code",
   "execution_count": 56,
   "id": "74f30147-18d1-4b4b-8d7d-246e179759d4",
   "metadata": {},
   "outputs": [],
   "source": [
    "tips_sub_miss.loc[[1, 3, 5, 7], 'total_bill'] = 'missing'"
   ]
  },
  {
   "cell_type": "code",
   "execution_count": 58,
   "id": "d22ee03c-2171-4233-9571-24fe3d1dfbcf",
   "metadata": {},
   "outputs": [
    {
     "data": {
      "text/html": [
       "<div>\n",
       "<style scoped>\n",
       "    .dataframe tbody tr th:only-of-type {\n",
       "        vertical-align: middle;\n",
       "    }\n",
       "\n",
       "    .dataframe tbody tr th {\n",
       "        vertical-align: top;\n",
       "    }\n",
       "\n",
       "    .dataframe thead th {\n",
       "        text-align: right;\n",
       "    }\n",
       "</style>\n",
       "<table border=\"1\" class=\"dataframe\">\n",
       "  <thead>\n",
       "    <tr style=\"text-align: right;\">\n",
       "      <th></th>\n",
       "      <th>total_bill</th>\n",
       "      <th>tip</th>\n",
       "      <th>sex</th>\n",
       "      <th>smoker</th>\n",
       "      <th>day</th>\n",
       "      <th>time</th>\n",
       "      <th>size</th>\n",
       "    </tr>\n",
       "  </thead>\n",
       "  <tbody>\n",
       "    <tr>\n",
       "      <th>0</th>\n",
       "      <td>16.99</td>\n",
       "      <td>1.01</td>\n",
       "      <td>Female</td>\n",
       "      <td>No</td>\n",
       "      <td>Sun</td>\n",
       "      <td>Dinner</td>\n",
       "      <td>2</td>\n",
       "    </tr>\n",
       "    <tr>\n",
       "      <th>1</th>\n",
       "      <td>missing</td>\n",
       "      <td>1.66</td>\n",
       "      <td>Male</td>\n",
       "      <td>No</td>\n",
       "      <td>Sun</td>\n",
       "      <td>Dinner</td>\n",
       "      <td>3</td>\n",
       "    </tr>\n",
       "    <tr>\n",
       "      <th>2</th>\n",
       "      <td>21.01</td>\n",
       "      <td>3.50</td>\n",
       "      <td>Male</td>\n",
       "      <td>No</td>\n",
       "      <td>Sun</td>\n",
       "      <td>Dinner</td>\n",
       "      <td>3</td>\n",
       "    </tr>\n",
       "    <tr>\n",
       "      <th>3</th>\n",
       "      <td>missing</td>\n",
       "      <td>3.31</td>\n",
       "      <td>Male</td>\n",
       "      <td>No</td>\n",
       "      <td>Sun</td>\n",
       "      <td>Dinner</td>\n",
       "      <td>2</td>\n",
       "    </tr>\n",
       "    <tr>\n",
       "      <th>4</th>\n",
       "      <td>24.59</td>\n",
       "      <td>3.61</td>\n",
       "      <td>Female</td>\n",
       "      <td>No</td>\n",
       "      <td>Sun</td>\n",
       "      <td>Dinner</td>\n",
       "      <td>4</td>\n",
       "    </tr>\n",
       "    <tr>\n",
       "      <th>5</th>\n",
       "      <td>missing</td>\n",
       "      <td>4.71</td>\n",
       "      <td>Male</td>\n",
       "      <td>No</td>\n",
       "      <td>Sun</td>\n",
       "      <td>Dinner</td>\n",
       "      <td>4</td>\n",
       "    </tr>\n",
       "    <tr>\n",
       "      <th>6</th>\n",
       "      <td>8.77</td>\n",
       "      <td>2.00</td>\n",
       "      <td>Male</td>\n",
       "      <td>No</td>\n",
       "      <td>Sun</td>\n",
       "      <td>Dinner</td>\n",
       "      <td>2</td>\n",
       "    </tr>\n",
       "    <tr>\n",
       "      <th>7</th>\n",
       "      <td>missing</td>\n",
       "      <td>3.12</td>\n",
       "      <td>Male</td>\n",
       "      <td>No</td>\n",
       "      <td>Sun</td>\n",
       "      <td>Dinner</td>\n",
       "      <td>4</td>\n",
       "    </tr>\n",
       "    <tr>\n",
       "      <th>8</th>\n",
       "      <td>15.04</td>\n",
       "      <td>1.96</td>\n",
       "      <td>Male</td>\n",
       "      <td>No</td>\n",
       "      <td>Sun</td>\n",
       "      <td>Dinner</td>\n",
       "      <td>2</td>\n",
       "    </tr>\n",
       "    <tr>\n",
       "      <th>9</th>\n",
       "      <td>14.78</td>\n",
       "      <td>3.23</td>\n",
       "      <td>Male</td>\n",
       "      <td>No</td>\n",
       "      <td>Sun</td>\n",
       "      <td>Dinner</td>\n",
       "      <td>2</td>\n",
       "    </tr>\n",
       "  </tbody>\n",
       "</table>\n",
       "</div>"
      ],
      "text/plain": [
       "  total_bill   tip     sex smoker  day    time  size\n",
       "0      16.99  1.01  Female     No  Sun  Dinner     2\n",
       "1    missing  1.66    Male     No  Sun  Dinner     3\n",
       "2      21.01  3.50    Male     No  Sun  Dinner     3\n",
       "3    missing  3.31    Male     No  Sun  Dinner     2\n",
       "4      24.59  3.61  Female     No  Sun  Dinner     4\n",
       "5    missing  4.71    Male     No  Sun  Dinner     4\n",
       "6       8.77  2.00    Male     No  Sun  Dinner     2\n",
       "7    missing  3.12    Male     No  Sun  Dinner     4\n",
       "8      15.04  1.96    Male     No  Sun  Dinner     2\n",
       "9      14.78  3.23    Male     No  Sun  Dinner     2"
      ]
     },
     "execution_count": 58,
     "metadata": {},
     "output_type": "execute_result"
    }
   ],
   "source": [
    "tips_sub_miss.head(10)"
   ]
  },
  {
   "cell_type": "markdown",
   "id": "199376dd-3689-40cf-b8d1-dd1c6610bb18",
   "metadata": {},
   "source": [
    "#### (2) 열의 자료형이 object 로 바뀐 것 확인"
   ]
  },
  {
   "cell_type": "code",
   "execution_count": 60,
   "id": "f62f2d54-a081-4272-84c8-fdcd26b904da",
   "metadata": {},
   "outputs": [
    {
     "data": {
      "text/plain": [
       "total_bill      object\n",
       "tip            float64\n",
       "sex           category\n",
       "smoker        category\n",
       "day           category\n",
       "time          category\n",
       "size             int64\n",
       "dtype: object"
      ]
     },
     "execution_count": 60,
     "metadata": {},
     "output_type": "execute_result"
    }
   ],
   "source": [
    "tips_sub_miss.dtypes"
   ]
  },
  {
   "cell_type": "markdown",
   "id": "b826036f-ad76-4b3a-ab3b-c65364984cac",
   "metadata": {},
   "source": [
    "#### (3) astype() 메서드 사용하면 오류 발생"
   ]
  },
  {
   "cell_type": "code",
   "execution_count": null,
   "id": "67bfa46a-5aa7-42bc-a69e-c0c568f89d59",
   "metadata": {},
   "outputs": [],
   "source": [
    "# Error\n",
    "tips_sub_miss['total_bill'].astype(float)"
   ]
  },
  {
   "cell_type": "markdown",
   "id": "73591359-5fbf-4289-a0a3-0fca1631457e",
   "metadata": {},
   "source": [
    "#### (4) pd.to_numeric() 메서드도 그냥 사용하면 오류 발생"
   ]
  },
  {
   "cell_type": "code",
   "execution_count": null,
   "id": "2ff38627-d161-4f2b-aa7f-d55ce6f124af",
   "metadata": {},
   "outputs": [],
   "source": [
    "# Error\n",
    "pd.to_numeric(tips_sub_miss['total_bill'])"
   ]
  },
  {
   "cell_type": "markdown",
   "id": "9bf476a3-1203-41b3-9834-3d0c1c03ee0a",
   "metadata": {},
   "source": [
    "#### (5) errors 인자 설정"
   ]
  },
  {
   "cell_type": "markdown",
   "id": "4707f251-38f3-4213-b665-1a11e0526d71",
   "metadata": {},
   "source": [
    "##### * (defalut) raise: 숫자로 변환할 수 없는 값이 있으면 오류 발생"
   ]
  },
  {
   "cell_type": "code",
   "execution_count": null,
   "id": "652bc177-506e-4f18-b4df-9bce4536851e",
   "metadata": {},
   "outputs": [],
   "source": [
    "# Error (errors 인자의 defalut값은 raise)\n",
    "pd.to_numeric(tips_sub_miss['total_bill'])"
   ]
  },
  {
   "cell_type": "markdown",
   "id": "10d0d9e9-22ec-4d66-b99e-47c41fd9fb64",
   "metadata": {},
   "source": [
    "##### * ignore: 아무 작업도 하지 않음"
   ]
  },
  {
   "cell_type": "code",
   "execution_count": 64,
   "id": "4edde310-3dc7-4b9c-85f3-919bf1a12abb",
   "metadata": {},
   "outputs": [],
   "source": [
    "tips_sub_miss['total_miss'] = pd.to_numeric(tips_sub_miss['total_bill'], errors = 'ignore')"
   ]
  },
  {
   "cell_type": "code",
   "execution_count": 66,
   "id": "3964c03a-5e94-45f1-a02c-ad10698104de",
   "metadata": {},
   "outputs": [
    {
     "data": {
      "text/plain": [
       "total_bill      object\n",
       "tip            float64\n",
       "sex           category\n",
       "smoker        category\n",
       "day           category\n",
       "time          category\n",
       "size             int64\n",
       "total_miss      object\n",
       "dtype: object"
      ]
     },
     "execution_count": 66,
     "metadata": {},
     "output_type": "execute_result"
    }
   ],
   "source": [
    "# 에러가 발생하지 않았지만, 자료형도 바뀌지 않음\n",
    "tips_sub_miss.dtypes"
   ]
  },
  {
   "cell_type": "markdown",
   "id": "7c08747b-72ba-4403-a8e4-36f3bb5d3111",
   "metadata": {},
   "source": [
    "##### * coerce: 숫자로 변환할 수 없는 값을 누락값으로 지정"
   ]
  },
  {
   "cell_type": "code",
   "execution_count": 68,
   "id": "6fb086b9-ae8b-492d-8289-cf93a78428f8",
   "metadata": {},
   "outputs": [],
   "source": [
    "tips_sub_miss['total_bill'] = pd.to_numeric(tips_sub_miss['total_bill'], errors = 'coerce')"
   ]
  },
  {
   "cell_type": "code",
   "execution_count": 70,
   "id": "953c42d9-daed-4d6f-b0eb-f935851af662",
   "metadata": {},
   "outputs": [
    {
     "data": {
      "text/plain": [
       "total_bill     float64\n",
       "tip            float64\n",
       "sex           category\n",
       "smoker        category\n",
       "day           category\n",
       "time          category\n",
       "size             int64\n",
       "total_miss      object\n",
       "dtype: object"
      ]
     },
     "execution_count": 70,
     "metadata": {},
     "output_type": "execute_result"
    }
   ],
   "source": [
    "# 자료형이 object -> float 로 변경됨\n",
    "tips_sub_miss.dtypes"
   ]
  },
  {
   "cell_type": "code",
   "execution_count": 72,
   "id": "d63ddce8-06d3-4ff7-ab53-691a549b989d",
   "metadata": {},
   "outputs": [
    {
     "data": {
      "text/html": [
       "<div>\n",
       "<style scoped>\n",
       "    .dataframe tbody tr th:only-of-type {\n",
       "        vertical-align: middle;\n",
       "    }\n",
       "\n",
       "    .dataframe tbody tr th {\n",
       "        vertical-align: top;\n",
       "    }\n",
       "\n",
       "    .dataframe thead th {\n",
       "        text-align: right;\n",
       "    }\n",
       "</style>\n",
       "<table border=\"1\" class=\"dataframe\">\n",
       "  <thead>\n",
       "    <tr style=\"text-align: right;\">\n",
       "      <th></th>\n",
       "      <th>total_bill</th>\n",
       "      <th>tip</th>\n",
       "      <th>sex</th>\n",
       "      <th>smoker</th>\n",
       "      <th>day</th>\n",
       "      <th>time</th>\n",
       "      <th>size</th>\n",
       "      <th>total_miss</th>\n",
       "    </tr>\n",
       "  </thead>\n",
       "  <tbody>\n",
       "    <tr>\n",
       "      <th>0</th>\n",
       "      <td>16.99</td>\n",
       "      <td>1.01</td>\n",
       "      <td>Female</td>\n",
       "      <td>No</td>\n",
       "      <td>Sun</td>\n",
       "      <td>Dinner</td>\n",
       "      <td>2</td>\n",
       "      <td>16.99</td>\n",
       "    </tr>\n",
       "    <tr>\n",
       "      <th>1</th>\n",
       "      <td>NaN</td>\n",
       "      <td>1.66</td>\n",
       "      <td>Male</td>\n",
       "      <td>No</td>\n",
       "      <td>Sun</td>\n",
       "      <td>Dinner</td>\n",
       "      <td>3</td>\n",
       "      <td>missing</td>\n",
       "    </tr>\n",
       "    <tr>\n",
       "      <th>2</th>\n",
       "      <td>21.01</td>\n",
       "      <td>3.50</td>\n",
       "      <td>Male</td>\n",
       "      <td>No</td>\n",
       "      <td>Sun</td>\n",
       "      <td>Dinner</td>\n",
       "      <td>3</td>\n",
       "      <td>21.01</td>\n",
       "    </tr>\n",
       "    <tr>\n",
       "      <th>3</th>\n",
       "      <td>NaN</td>\n",
       "      <td>3.31</td>\n",
       "      <td>Male</td>\n",
       "      <td>No</td>\n",
       "      <td>Sun</td>\n",
       "      <td>Dinner</td>\n",
       "      <td>2</td>\n",
       "      <td>missing</td>\n",
       "    </tr>\n",
       "    <tr>\n",
       "      <th>4</th>\n",
       "      <td>24.59</td>\n",
       "      <td>3.61</td>\n",
       "      <td>Female</td>\n",
       "      <td>No</td>\n",
       "      <td>Sun</td>\n",
       "      <td>Dinner</td>\n",
       "      <td>4</td>\n",
       "      <td>24.59</td>\n",
       "    </tr>\n",
       "    <tr>\n",
       "      <th>5</th>\n",
       "      <td>NaN</td>\n",
       "      <td>4.71</td>\n",
       "      <td>Male</td>\n",
       "      <td>No</td>\n",
       "      <td>Sun</td>\n",
       "      <td>Dinner</td>\n",
       "      <td>4</td>\n",
       "      <td>missing</td>\n",
       "    </tr>\n",
       "    <tr>\n",
       "      <th>6</th>\n",
       "      <td>8.77</td>\n",
       "      <td>2.00</td>\n",
       "      <td>Male</td>\n",
       "      <td>No</td>\n",
       "      <td>Sun</td>\n",
       "      <td>Dinner</td>\n",
       "      <td>2</td>\n",
       "      <td>8.77</td>\n",
       "    </tr>\n",
       "    <tr>\n",
       "      <th>7</th>\n",
       "      <td>NaN</td>\n",
       "      <td>3.12</td>\n",
       "      <td>Male</td>\n",
       "      <td>No</td>\n",
       "      <td>Sun</td>\n",
       "      <td>Dinner</td>\n",
       "      <td>4</td>\n",
       "      <td>missing</td>\n",
       "    </tr>\n",
       "    <tr>\n",
       "      <th>8</th>\n",
       "      <td>15.04</td>\n",
       "      <td>1.96</td>\n",
       "      <td>Male</td>\n",
       "      <td>No</td>\n",
       "      <td>Sun</td>\n",
       "      <td>Dinner</td>\n",
       "      <td>2</td>\n",
       "      <td>15.04</td>\n",
       "    </tr>\n",
       "    <tr>\n",
       "      <th>9</th>\n",
       "      <td>14.78</td>\n",
       "      <td>3.23</td>\n",
       "      <td>Male</td>\n",
       "      <td>No</td>\n",
       "      <td>Sun</td>\n",
       "      <td>Dinner</td>\n",
       "      <td>2</td>\n",
       "      <td>14.78</td>\n",
       "    </tr>\n",
       "  </tbody>\n",
       "</table>\n",
       "</div>"
      ],
      "text/plain": [
       "   total_bill   tip     sex smoker  day    time  size total_miss\n",
       "0       16.99  1.01  Female     No  Sun  Dinner     2      16.99\n",
       "1         NaN  1.66    Male     No  Sun  Dinner     3    missing\n",
       "2       21.01  3.50    Male     No  Sun  Dinner     3      21.01\n",
       "3         NaN  3.31    Male     No  Sun  Dinner     2    missing\n",
       "4       24.59  3.61  Female     No  Sun  Dinner     4      24.59\n",
       "5         NaN  4.71    Male     No  Sun  Dinner     4    missing\n",
       "6        8.77  2.00    Male     No  Sun  Dinner     2       8.77\n",
       "7         NaN  3.12    Male     No  Sun  Dinner     4    missing\n",
       "8       15.04  1.96    Male     No  Sun  Dinner     2      15.04\n",
       "9       14.78  3.23    Male     No  Sun  Dinner     2      14.78"
      ]
     },
     "execution_count": 72,
     "metadata": {},
     "output_type": "execute_result"
    }
   ],
   "source": [
    "# 'missing' 값이 NaN 으로 변경됨\n",
    "tips_sub_miss.head(10)"
   ]
  },
  {
   "cell_type": "code",
   "execution_count": 77,
   "id": "abb55445-78c6-4de0-bc0b-f7c621112d79",
   "metadata": {},
   "outputs": [
    {
     "data": {
      "text/plain": [
       "total_bill    4\n",
       "tip           0\n",
       "sex           0\n",
       "smoker        0\n",
       "day           0\n",
       "time          0\n",
       "size          0\n",
       "total_miss    0\n",
       "dtype: int64"
      ]
     },
     "execution_count": 77,
     "metadata": {},
     "output_type": "execute_result"
    }
   ],
   "source": [
    "tips_sub_miss.isnull().sum()"
   ]
  },
  {
   "cell_type": "markdown",
   "id": "3378dd7e-ca3a-42db-b968-a5507727dbac",
   "metadata": {},
   "source": [
    "#### (6) downcast 인자: 정수/실수 -> 더 작은 형태로"
   ]
  },
  {
   "cell_type": "code",
   "execution_count": 82,
   "id": "f48b3cfa-e470-42eb-ad2d-e0c7a1e1f9ec",
   "metadata": {},
   "outputs": [],
   "source": [
    "# downcast = 'integer', 'signed', 'unsigned', 'float' 등"
   ]
  },
  {
   "cell_type": "code",
   "execution_count": 80,
   "id": "f79e7d63-9528-4057-bb58-a12b85f654c7",
   "metadata": {},
   "outputs": [],
   "source": [
    "# float64 -> float32 로 변경\n",
    "# 메모리 공간 2배 축소\n",
    "tips_sub_miss['total_bill'] = pd.to_numeric(tips_sub_miss['total_bill'], \n",
    "                                            errors = 'coerce', \n",
    "                                            downcast = 'float')"
   ]
  },
  {
   "cell_type": "code",
   "execution_count": 79,
   "id": "615b751a-dd44-46ba-8626-eff2c45c56ad",
   "metadata": {},
   "outputs": [
    {
     "data": {
      "text/plain": [
       "total_bill     float32\n",
       "tip            float64\n",
       "sex           category\n",
       "smoker        category\n",
       "day           category\n",
       "time          category\n",
       "size             int64\n",
       "total_miss      object\n",
       "dtype: object"
      ]
     },
     "execution_count": 79,
     "metadata": {},
     "output_type": "execute_result"
    }
   ],
   "source": [
    "tips_sub_miss.dtypes"
   ]
  },
  {
   "cell_type": "markdown",
   "id": "bccc274a-634e-4109-84e6-d69fa623cfa0",
   "metadata": {},
   "source": [
    "## 08-2. 카테고리 자료형"
   ]
  },
  {
   "cell_type": "markdown",
   "id": "97ad43a9-1675-4d5a-9a7f-9d51320ce898",
   "metadata": {},
   "source": [
    "### - (p.182) 문자열 vs. 카테고리"
   ]
  },
  {
   "cell_type": "code",
   "execution_count": 93,
   "id": "a0b857bb-254e-4fe1-8c1f-33c676a3ebb4",
   "metadata": {},
   "outputs": [],
   "source": [
    "# 카테고리 자료형\n",
    "# (1) 장점: 용량과 속도 면에서 더 효율적\n",
    "# (2) 특징: 주로 동일한 문자열이 반복되어 데이터를 구성하는 경우에 사용"
   ]
  },
  {
   "cell_type": "code",
   "execution_count": 91,
   "id": "3f7162e7-353d-47f0-9f0e-9eb57419109c",
   "metadata": {},
   "outputs": [],
   "source": [
    "tips = tips_raw.copy()"
   ]
  },
  {
   "cell_type": "code",
   "execution_count": 94,
   "id": "5e7a947a-f2dd-49a5-ad8e-0b08a18ac156",
   "metadata": {},
   "outputs": [
    {
     "name": "stdout",
     "output_type": "stream",
     "text": [
      "<class 'pandas.core.frame.DataFrame'>\n",
      "RangeIndex: 244 entries, 0 to 243\n",
      "Data columns (total 7 columns):\n",
      " #   Column      Non-Null Count  Dtype   \n",
      "---  ------      --------------  -----   \n",
      " 0   total_bill  244 non-null    float64 \n",
      " 1   tip         244 non-null    float64 \n",
      " 2   sex         244 non-null    category\n",
      " 3   smoker      244 non-null    category\n",
      " 4   day         244 non-null    category\n",
      " 5   time        244 non-null    category\n",
      " 6   size        244 non-null    int64   \n",
      "dtypes: category(4), float64(2), int64(1)\n",
      "memory usage: 7.4 KB\n"
     ]
    }
   ],
   "source": [
    "tips.info()\n",
    "# memory usage: 7.4 KB"
   ]
  },
  {
   "cell_type": "code",
   "execution_count": 95,
   "id": "108da981-c1de-4f76-b7df-f365e484fa07",
   "metadata": {},
   "outputs": [],
   "source": [
    "# 카테고리 -> 문자열로 변경\n",
    "tips['sex'] = tips['sex'].astype('str')"
   ]
  },
  {
   "cell_type": "code",
   "execution_count": 96,
   "id": "fe59daf2-d3fd-448d-ac35-e1c129c50cfe",
   "metadata": {},
   "outputs": [
    {
     "name": "stdout",
     "output_type": "stream",
     "text": [
      "<class 'pandas.core.frame.DataFrame'>\n",
      "RangeIndex: 244 entries, 0 to 243\n",
      "Data columns (total 7 columns):\n",
      " #   Column      Non-Null Count  Dtype   \n",
      "---  ------      --------------  -----   \n",
      " 0   total_bill  244 non-null    float64 \n",
      " 1   tip         244 non-null    float64 \n",
      " 2   sex         244 non-null    object  \n",
      " 3   smoker      244 non-null    category\n",
      " 4   day         244 non-null    category\n",
      " 5   time        244 non-null    category\n",
      " 6   size        244 non-null    int64   \n",
      "dtypes: category(3), float64(2), int64(1), object(1)\n",
      "memory usage: 8.9+ KB\n"
     ]
    }
   ],
   "source": [
    "tips.info()\n",
    "# memory usage: 8.9+ KB"
   ]
  },
  {
   "cell_type": "code",
   "execution_count": 97,
   "id": "b618cba1-7c15-40c1-b2e4-104bf7751fc7",
   "metadata": {},
   "outputs": [],
   "source": [
    "tips['sex'] = tips['sex'].astype('category')"
   ]
  },
  {
   "cell_type": "code",
   "execution_count": 99,
   "id": "fa5fca56-51b3-4184-95f3-a17a919db304",
   "metadata": {},
   "outputs": [
    {
     "name": "stdout",
     "output_type": "stream",
     "text": [
      "<class 'pandas.core.frame.DataFrame'>\n",
      "RangeIndex: 244 entries, 0 to 243\n",
      "Data columns (total 7 columns):\n",
      " #   Column      Non-Null Count  Dtype   \n",
      "---  ------      --------------  -----   \n",
      " 0   total_bill  244 non-null    float64 \n",
      " 1   tip         244 non-null    float64 \n",
      " 2   sex         244 non-null    category\n",
      " 3   smoker      244 non-null    category\n",
      " 4   day         244 non-null    category\n",
      " 5   time        244 non-null    category\n",
      " 6   size        244 non-null    int64   \n",
      "dtypes: category(4), float64(2), int64(1)\n",
      "memory usage: 7.4 KB\n"
     ]
    }
   ],
   "source": [
    "tips.info()\n",
    "# memory usage: 7.4 KB"
   ]
  },
  {
   "cell_type": "markdown",
   "id": "a028567c-79e8-4f03-9673-5827f2b3f977",
   "metadata": {},
   "source": [
    "## - End."
   ]
  },
  {
   "cell_type": "code",
   "execution_count": null,
   "id": "1f50648a-7b28-45db-9960-6ddc82f055ca",
   "metadata": {},
   "outputs": [],
   "source": []
  }
 ],
 "metadata": {
  "kernelspec": {
   "display_name": "Python 3 (ipykernel)",
   "language": "python",
   "name": "python3"
  },
  "language_info": {
   "codemirror_mode": {
    "name": "ipython",
    "version": 3
   },
   "file_extension": ".py",
   "mimetype": "text/x-python",
   "name": "python",
   "nbconvert_exporter": "python",
   "pygments_lexer": "ipython3",
   "version": "3.12.1"
  }
 },
 "nbformat": 4,
 "nbformat_minor": 5
}
