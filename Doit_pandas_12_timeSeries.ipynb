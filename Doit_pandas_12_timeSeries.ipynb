{
 "cells": [
  {
   "cell_type": "markdown",
   "id": "f87825ee-4f77-4d94-99bd-5df271fdfaa6",
   "metadata": {},
   "source": [
    "# Ch-12. 시계열 데이터\n",
    "## 12-1. datetime 오브젝트"
   ]
  },
  {
   "cell_type": "code",
   "execution_count": null,
   "id": "63d3003a-7c2a-4236-997e-0617e33934f5",
   "metadata": {},
   "outputs": [],
   "source": []
  }
 ],
 "metadata": {
  "kernelspec": {
   "display_name": "Python 3 (ipykernel)",
   "language": "python",
   "name": "python3"
  },
  "language_info": {
   "codemirror_mode": {
    "name": "ipython",
    "version": 3
   },
   "file_extension": ".py",
   "mimetype": "text/x-python",
   "name": "python",
   "nbconvert_exporter": "python",
   "pygments_lexer": "ipython3",
   "version": "3.9.13"
  }
 },
 "nbformat": 4,
 "nbformat_minor": 5
}
